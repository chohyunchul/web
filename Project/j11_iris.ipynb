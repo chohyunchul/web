{
 "cells": [
  {
   "cell_type": "markdown",
   "metadata": {},
   "source": [
    "# iris"
   ]
  },
  {
   "cell_type": "code",
   "execution_count": 1,
   "metadata": {},
   "outputs": [],
   "source": [
    "import numpy as np\n",
    "import pandas as pd\n",
    "import seaborn as sns\n",
    "from sklearn.tree import DecisionTreeClassifier\n",
    "from sklearn.datasets import load_iris\n",
    "from sklearn.datasets import make_classification\n",
    "from sklearn.model_selection import train_test_split\n",
    "from sklearn.linear_model import LogisticRegression\n",
    "from sklearn.metrics import accuracy_score\n",
    "from sklearn.svm import SVC\n",
    "from sklearn.tree import export_graphviz\n",
    "from sklearn.tree import DecisionTreeClassifier\n",
    "import warnings\n",
    "#import graphviz\n",
    "import matplotlib.pyplot as plt\n",
    "warnings.filterwarnings('ignore')\n",
    "%matplotlib inline"
   ]
  },
  {
   "cell_type": "code",
   "execution_count": 2,
   "metadata": {},
   "outputs": [],
   "source": [
    "# iris 데이터 가져오기\n",
    "iris = load_iris()"
   ]
  },
  {
   "cell_type": "code",
   "execution_count": 3,
   "metadata": {},
   "outputs": [
    {
     "data": {
      "text/html": [
       "<div>\n",
       "<style scoped>\n",
       "    .dataframe tbody tr th:only-of-type {\n",
       "        vertical-align: middle;\n",
       "    }\n",
       "\n",
       "    .dataframe tbody tr th {\n",
       "        vertical-align: top;\n",
       "    }\n",
       "\n",
       "    .dataframe thead th {\n",
       "        text-align: right;\n",
       "    }\n",
       "</style>\n",
       "<table border=\"1\" class=\"dataframe\">\n",
       "  <thead>\n",
       "    <tr style=\"text-align: right;\">\n",
       "      <th></th>\n",
       "      <th>sepal length (cm)</th>\n",
       "      <th>sepal width (cm)</th>\n",
       "      <th>petal length (cm)</th>\n",
       "      <th>petal width (cm)</th>\n",
       "    </tr>\n",
       "  </thead>\n",
       "  <tbody>\n",
       "    <tr>\n",
       "      <th>0</th>\n",
       "      <td>5.1</td>\n",
       "      <td>3.5</td>\n",
       "      <td>1.4</td>\n",
       "      <td>0.2</td>\n",
       "    </tr>\n",
       "    <tr>\n",
       "      <th>1</th>\n",
       "      <td>4.9</td>\n",
       "      <td>3.0</td>\n",
       "      <td>1.4</td>\n",
       "      <td>0.2</td>\n",
       "    </tr>\n",
       "    <tr>\n",
       "      <th>2</th>\n",
       "      <td>4.7</td>\n",
       "      <td>3.2</td>\n",
       "      <td>1.3</td>\n",
       "      <td>0.2</td>\n",
       "    </tr>\n",
       "    <tr>\n",
       "      <th>3</th>\n",
       "      <td>4.6</td>\n",
       "      <td>3.1</td>\n",
       "      <td>1.5</td>\n",
       "      <td>0.2</td>\n",
       "    </tr>\n",
       "    <tr>\n",
       "      <th>4</th>\n",
       "      <td>5.0</td>\n",
       "      <td>3.6</td>\n",
       "      <td>1.4</td>\n",
       "      <td>0.2</td>\n",
       "    </tr>\n",
       "  </tbody>\n",
       "</table>\n",
       "</div>"
      ],
      "text/plain": [
       "   sepal length (cm)  sepal width (cm)  petal length (cm)  petal width (cm)\n",
       "0                5.1               3.5                1.4               0.2\n",
       "1                4.9               3.0                1.4               0.2\n",
       "2                4.7               3.2                1.3               0.2\n",
       "3                4.6               3.1                1.5               0.2\n",
       "4                5.0               3.6                1.4               0.2"
      ]
     },
     "execution_count": 3,
     "metadata": {},
     "output_type": "execute_result"
    }
   ],
   "source": [
    "# data, target, target_name, feature_name, DESCR, \n",
    "data = iris.data\n",
    "label = iris.target\n",
    "columns = iris.feature_names\n",
    "df = pd.DataFrame(data, columns=columns)\n",
    "df.head()"
   ]
  },
  {
   "cell_type": "code",
   "execution_count": 4,
   "metadata": {},
   "outputs": [],
   "source": [
    "X_train, X_test, y_train, y_test, = train_test_split(data, label, shuffle=True, stratify=label,\n",
    "                                                    test_size=0.2, random_state=2019)"
   ]
  },
  {
   "cell_type": "markdown",
   "metadata": {},
   "source": [
    "- 모델생성"
   ]
  },
  {
   "cell_type": "code",
   "execution_count": 5,
   "metadata": {},
   "outputs": [],
   "source": [
    "lr = LogisticRegression(verbose=1)"
   ]
  },
  {
   "cell_type": "code",
   "execution_count": 6,
   "metadata": {
    "scrolled": true
   },
   "outputs": [
    {
     "name": "stderr",
     "output_type": "stream",
     "text": [
      "[Parallel(n_jobs=1)]: Using backend SequentialBackend with 1 concurrent workers.\n",
      "[Parallel(n_jobs=1)]: Done   1 out of   1 | elapsed:    0.0s finished\n"
     ]
    },
    {
     "data": {
      "text/plain": [
       "LogisticRegression(verbose=1)"
      ]
     },
     "execution_count": 6,
     "metadata": {},
     "output_type": "execute_result"
    }
   ],
   "source": [
    "lr.fit(X_train, y_train)"
   ]
  },
  {
   "cell_type": "markdown",
   "metadata": {},
   "source": [
    "- 학습한 결과 저장"
   ]
  },
  {
   "cell_type": "code",
   "execution_count": 7,
   "metadata": {},
   "outputs": [
    {
     "data": {
      "text/plain": [
       "['model/iris_lr.pkl']"
      ]
     },
     "execution_count": 7,
     "metadata": {},
     "output_type": "execute_result"
    }
   ],
   "source": [
    "import joblib\n",
    "joblib.dump(lr,'model/iris_lr.pkl')"
   ]
  },
  {
   "cell_type": "markdown",
   "metadata": {},
   "source": [
    "- support Vector Machine"
   ]
  },
  {
   "cell_type": "code",
   "execution_count": 8,
   "metadata": {},
   "outputs": [],
   "source": [
    "# 모델 객체 생성\n",
    "svc = SVC()\n",
    "#svc.fit(X_train, y_train)\n",
    "#y_pred_svc = svc.predict(X_test)\n",
    "#accuracy_score(y_test, y_pred)"
   ]
  },
  {
   "cell_type": "code",
   "execution_count": 9,
   "metadata": {},
   "outputs": [
    {
     "data": {
      "text/plain": [
       "SVC()"
      ]
     },
     "execution_count": 9,
     "metadata": {},
     "output_type": "execute_result"
    }
   ],
   "source": [
    "# 학습\n",
    "svc.fit(X_train, y_train)"
   ]
  },
  {
   "cell_type": "code",
   "execution_count": 10,
   "metadata": {},
   "outputs": [
    {
     "data": {
      "text/plain": [
       "['model/iris_svm.pkl']"
      ]
     },
     "execution_count": 10,
     "metadata": {},
     "output_type": "execute_result"
    }
   ],
   "source": [
    "import joblib\n",
    "joblib.dump(lr,'model/iris_svm.pkl')"
   ]
  },
  {
   "cell_type": "markdown",
   "metadata": {},
   "source": [
    "### Decision Tree"
   ]
  },
  {
   "cell_type": "code",
   "execution_count": 11,
   "metadata": {},
   "outputs": [],
   "source": [
    "# 객체 모델 생성  / dtc 소문자만 가능\n",
    "dtc = DecisionTreeClassifier()"
   ]
  },
  {
   "cell_type": "code",
   "execution_count": 12,
   "metadata": {},
   "outputs": [
    {
     "data": {
      "text/plain": [
       "DecisionTreeClassifier()"
      ]
     },
     "execution_count": 12,
     "metadata": {},
     "output_type": "execute_result"
    }
   ],
   "source": [
    "# 학습\n",
    "dtc.fit(X_train, y_train)"
   ]
  },
  {
   "cell_type": "code",
   "execution_count": 13,
   "metadata": {},
   "outputs": [
    {
     "data": {
      "text/plain": [
       "['model/iris_dt.pkl']"
      ]
     },
     "execution_count": 13,
     "metadata": {},
     "output_type": "execute_result"
    }
   ],
   "source": [
    "import joblib\n",
    "joblib.dump(lr,'model/iris_dt.pkl')"
   ]
  },
  {
   "cell_type": "markdown",
   "metadata": {},
   "source": [
    "### 저장된 모델 정확도 산출"
   ]
  },
  {
   "cell_type": "code",
   "execution_count": 14,
   "metadata": {},
   "outputs": [],
   "source": [
    "model_lr = joblib.load('model/iris_lr.pkl')\n",
    "model_svm = joblib.load('model/iris_svm.pkl')\n",
    "model_dt = joblib.load('model/iris_dt.pkl')"
   ]
  },
  {
   "cell_type": "code",
   "execution_count": 15,
   "metadata": {},
   "outputs": [],
   "source": [
    "y_pred_lr = model_lr.predict(X_test)\n",
    "y_pred_svm = model_svm.predict(X_test)\n",
    "y_pred_dt = model_dt.predict(X_test)"
   ]
  },
  {
   "cell_type": "code",
   "execution_count": 16,
   "metadata": {},
   "outputs": [
    {
     "name": "stdout",
     "output_type": "stream",
     "text": [
      "0.9666666666666667 0.9666666666666667 0.9666666666666667\n"
     ]
    }
   ],
   "source": [
    "acc_lr = accuracy_score(y_test, y_pred_lr)\n",
    "acc_svm = accuracy_score(y_test, y_pred_svm)\n",
    "acc_dt = accuracy_score(y_test, y_pred_dt)\n",
    "print(acc_lr, acc_svm, acc_dt)"
   ]
  },
  {
   "cell_type": "markdown",
   "metadata": {},
   "source": [
    "### 한개의 테스트 값 예측"
   ]
  },
  {
   "cell_type": "code",
   "execution_count": 17,
   "metadata": {},
   "outputs": [
    {
     "data": {
      "text/html": [
       "<div>\n",
       "<style scoped>\n",
       "    .dataframe tbody tr th:only-of-type {\n",
       "        vertical-align: middle;\n",
       "    }\n",
       "\n",
       "    .dataframe tbody tr th {\n",
       "        vertical-align: top;\n",
       "    }\n",
       "\n",
       "    .dataframe thead th {\n",
       "        text-align: right;\n",
       "    }\n",
       "</style>\n",
       "<table border=\"1\" class=\"dataframe\">\n",
       "  <thead>\n",
       "    <tr style=\"text-align: right;\">\n",
       "      <th></th>\n",
       "      <th>sepal length (cm)</th>\n",
       "      <th>sepal width (cm)</th>\n",
       "      <th>petal length (cm)</th>\n",
       "      <th>petal width (cm)</th>\n",
       "    </tr>\n",
       "  </thead>\n",
       "  <tbody>\n",
       "    <tr>\n",
       "      <th>145</th>\n",
       "      <td>6.7</td>\n",
       "      <td>3.0</td>\n",
       "      <td>5.2</td>\n",
       "      <td>2.3</td>\n",
       "    </tr>\n",
       "    <tr>\n",
       "      <th>146</th>\n",
       "      <td>6.3</td>\n",
       "      <td>2.5</td>\n",
       "      <td>5.0</td>\n",
       "      <td>1.9</td>\n",
       "    </tr>\n",
       "    <tr>\n",
       "      <th>147</th>\n",
       "      <td>6.5</td>\n",
       "      <td>3.0</td>\n",
       "      <td>5.2</td>\n",
       "      <td>2.0</td>\n",
       "    </tr>\n",
       "    <tr>\n",
       "      <th>148</th>\n",
       "      <td>6.2</td>\n",
       "      <td>3.4</td>\n",
       "      <td>5.4</td>\n",
       "      <td>2.3</td>\n",
       "    </tr>\n",
       "    <tr>\n",
       "      <th>149</th>\n",
       "      <td>5.9</td>\n",
       "      <td>3.0</td>\n",
       "      <td>5.1</td>\n",
       "      <td>1.8</td>\n",
       "    </tr>\n",
       "  </tbody>\n",
       "</table>\n",
       "</div>"
      ],
      "text/plain": [
       "     sepal length (cm)  sepal width (cm)  petal length (cm)  petal width (cm)\n",
       "145                6.7               3.0                5.2               2.3\n",
       "146                6.3               2.5                5.0               1.9\n",
       "147                6.5               3.0                5.2               2.0\n",
       "148                6.2               3.4                5.4               2.3\n",
       "149                5.9               3.0                5.1               1.8"
      ]
     },
     "execution_count": 17,
     "metadata": {},
     "output_type": "execute_result"
    }
   ],
   "source": [
    "df.tail()"
   ]
  },
  {
   "cell_type": "code",
   "execution_count": 18,
   "metadata": {},
   "outputs": [],
   "source": [
    "test_data = np.array([6.7, 3.0, 5.2 , 2.3]).reshape(1,4)   # 2차원을 1차원으로 reshape"
   ]
  },
  {
   "cell_type": "code",
   "execution_count": 19,
   "metadata": {},
   "outputs": [],
   "source": [
    "index_lr = model_lr.predict(test_data)[0]   # [0]으로 숫자만 출력\n",
    "index_svm = model_lr.predict(test_data)[0]\n",
    "index_dt = model_lr.predict(test_data)[0]"
   ]
  },
  {
   "cell_type": "code",
   "execution_count": 20,
   "metadata": {},
   "outputs": [
    {
     "name": "stdout",
     "output_type": "stream",
     "text": [
      "Virginica Virginica Virginica\n"
     ]
    }
   ],
   "source": [
    "sp_names = ['Setosa', 'Versicolor', 'Virginica']\n",
    "print(sp_names[index_lr], sp_names[index_svm], sp_names[index_dt])"
   ]
  },
  {
   "cell_type": "markdown",
   "metadata": {},
   "source": [
    "## Deep learnin model"
   ]
  },
  {
   "cell_type": "code",
   "execution_count": 21,
   "metadata": {},
   "outputs": [
    {
     "name": "stdout",
     "output_type": "stream",
     "text": [
      "Model: \"sequential\"\n",
      "_________________________________________________________________\n",
      "Layer (type)                 Output Shape              Param #   \n",
      "=================================================================\n",
      "dense (Dense)                (None, 12)                60        \n",
      "_________________________________________________________________\n",
      "dense_1 (Dense)              (None, 8)                 104       \n",
      "_________________________________________________________________\n",
      "dense_2 (Dense)              (None, 3)                 27        \n",
      "=================================================================\n",
      "Total params: 191\n",
      "Trainable params: 191\n",
      "Non-trainable params: 0\n",
      "_________________________________________________________________\n"
     ]
    }
   ],
   "source": [
    "# 딥러닝 모델 설정\n",
    "from tensorflow.keras.models import Sequential\n",
    "from tensorflow.keras.layers import Dense\n",
    "from tensorflow.keras.callbacks import ModelCheckpoint\n",
    "from tensorflow import keras\n",
    "from tensorflow.keras.layers import Dense\n",
    "\n",
    "model = Sequential([\n",
    "    Dense(12, input_shape=(4, ), activation='relu'),\n",
    "    Dense(8, activation='relu'),\n",
    "    Dense(3, activation='softmax')\n",
    "]) \n",
    "model.summary()"
   ]
  },
  {
   "cell_type": "code",
   "execution_count": 22,
   "metadata": {},
   "outputs": [],
   "source": [
    "# 모델 컴파일 \n",
    "model.compile(loss='categorical_crossentropy',\n",
    "              optimizer='adam',\n",
    "              metrics=['accuracy'])"
   ]
  },
  {
   "cell_type": "code",
   "execution_count": 23,
   "metadata": {},
   "outputs": [],
   "source": [
    "Y_eoncoded = keras.utils.to_categorical(y_train)"
   ]
  },
  {
   "cell_type": "code",
   "execution_count": 24,
   "metadata": {},
   "outputs": [],
   "source": [
    "cp = ModelCheckpoint('model/iris_deep.h5', verbose=1, save_best_only=True)"
   ]
  },
  {
   "cell_type": "code",
   "execution_count": 25,
   "metadata": {},
   "outputs": [
    {
     "name": "stdout",
     "output_type": "stream",
     "text": [
      "\n",
      "Epoch 00001: val_loss improved from inf to 3.14947, saving model to model/iris_deep.h5\n",
      "\n",
      "Epoch 00002: val_loss improved from 3.14947 to 2.92497, saving model to model/iris_deep.h5\n",
      "\n",
      "Epoch 00003: val_loss improved from 2.92497 to 2.71316, saving model to model/iris_deep.h5\n",
      "\n",
      "Epoch 00004: val_loss improved from 2.71316 to 2.50962, saving model to model/iris_deep.h5\n",
      "\n",
      "Epoch 00005: val_loss improved from 2.50962 to 2.32001, saving model to model/iris_deep.h5\n",
      "\n",
      "Epoch 00006: val_loss improved from 2.32001 to 2.14444, saving model to model/iris_deep.h5\n",
      "\n",
      "Epoch 00007: val_loss improved from 2.14444 to 1.98117, saving model to model/iris_deep.h5\n",
      "\n",
      "Epoch 00008: val_loss improved from 1.98117 to 1.83289, saving model to model/iris_deep.h5\n",
      "\n",
      "Epoch 00009: val_loss improved from 1.83289 to 1.69563, saving model to model/iris_deep.h5\n",
      "\n",
      "Epoch 00010: val_loss improved from 1.69563 to 1.56983, saving model to model/iris_deep.h5\n",
      "\n",
      "Epoch 00011: val_loss improved from 1.56983 to 1.45695, saving model to model/iris_deep.h5\n",
      "\n",
      "Epoch 00012: val_loss improved from 1.45695 to 1.35402, saving model to model/iris_deep.h5\n",
      "\n",
      "Epoch 00013: val_loss improved from 1.35402 to 1.26095, saving model to model/iris_deep.h5\n",
      "\n",
      "Epoch 00014: val_loss improved from 1.26095 to 1.17596, saving model to model/iris_deep.h5\n",
      "\n",
      "Epoch 00015: val_loss improved from 1.17596 to 1.10004, saving model to model/iris_deep.h5\n",
      "\n",
      "Epoch 00016: val_loss improved from 1.10004 to 1.03550, saving model to model/iris_deep.h5\n",
      "\n",
      "Epoch 00017: val_loss improved from 1.03550 to 0.97882, saving model to model/iris_deep.h5\n",
      "\n",
      "Epoch 00018: val_loss improved from 0.97882 to 0.92782, saving model to model/iris_deep.h5\n",
      "\n",
      "Epoch 00019: val_loss improved from 0.92782 to 0.88062, saving model to model/iris_deep.h5\n",
      "\n",
      "Epoch 00020: val_loss improved from 0.88062 to 0.83603, saving model to model/iris_deep.h5\n",
      "\n",
      "Epoch 00021: val_loss improved from 0.83603 to 0.79830, saving model to model/iris_deep.h5\n",
      "\n",
      "Epoch 00022: val_loss improved from 0.79830 to 0.77192, saving model to model/iris_deep.h5\n",
      "\n",
      "Epoch 00023: val_loss improved from 0.77192 to 0.75057, saving model to model/iris_deep.h5\n",
      "\n",
      "Epoch 00024: val_loss improved from 0.75057 to 0.73035, saving model to model/iris_deep.h5\n",
      "\n",
      "Epoch 00025: val_loss improved from 0.73035 to 0.71240, saving model to model/iris_deep.h5\n",
      "\n",
      "Epoch 00026: val_loss improved from 0.71240 to 0.69595, saving model to model/iris_deep.h5\n",
      "\n",
      "Epoch 00027: val_loss improved from 0.69595 to 0.68088, saving model to model/iris_deep.h5\n",
      "\n",
      "Epoch 00028: val_loss improved from 0.68088 to 0.66788, saving model to model/iris_deep.h5\n",
      "\n",
      "Epoch 00029: val_loss improved from 0.66788 to 0.65680, saving model to model/iris_deep.h5\n",
      "\n",
      "Epoch 00030: val_loss improved from 0.65680 to 0.64519, saving model to model/iris_deep.h5\n",
      "\n",
      "Epoch 00031: val_loss improved from 0.64519 to 0.63416, saving model to model/iris_deep.h5\n",
      "\n",
      "Epoch 00032: val_loss improved from 0.63416 to 0.62489, saving model to model/iris_deep.h5\n",
      "\n",
      "Epoch 00033: val_loss improved from 0.62489 to 0.61648, saving model to model/iris_deep.h5\n",
      "\n",
      "Epoch 00034: val_loss improved from 0.61648 to 0.60882, saving model to model/iris_deep.h5\n",
      "\n",
      "Epoch 00035: val_loss improved from 0.60882 to 0.60153, saving model to model/iris_deep.h5\n",
      "\n",
      "Epoch 00036: val_loss improved from 0.60153 to 0.59316, saving model to model/iris_deep.h5\n",
      "\n",
      "Epoch 00037: val_loss improved from 0.59316 to 0.58488, saving model to model/iris_deep.h5\n",
      "\n",
      "Epoch 00038: val_loss improved from 0.58488 to 0.57734, saving model to model/iris_deep.h5\n",
      "\n",
      "Epoch 00039: val_loss improved from 0.57734 to 0.57079, saving model to model/iris_deep.h5\n",
      "\n",
      "Epoch 00040: val_loss improved from 0.57079 to 0.56343, saving model to model/iris_deep.h5\n",
      "\n",
      "Epoch 00041: val_loss improved from 0.56343 to 0.55682, saving model to model/iris_deep.h5\n",
      "\n",
      "Epoch 00042: val_loss improved from 0.55682 to 0.55242, saving model to model/iris_deep.h5\n",
      "\n",
      "Epoch 00043: val_loss improved from 0.55242 to 0.54888, saving model to model/iris_deep.h5\n",
      "\n",
      "Epoch 00044: val_loss improved from 0.54888 to 0.54250, saving model to model/iris_deep.h5\n",
      "\n",
      "Epoch 00045: val_loss improved from 0.54250 to 0.53460, saving model to model/iris_deep.h5\n",
      "\n",
      "Epoch 00046: val_loss improved from 0.53460 to 0.52847, saving model to model/iris_deep.h5\n",
      "\n",
      "Epoch 00047: val_loss improved from 0.52847 to 0.52271, saving model to model/iris_deep.h5\n",
      "\n",
      "Epoch 00048: val_loss improved from 0.52271 to 0.51735, saving model to model/iris_deep.h5\n",
      "\n",
      "Epoch 00049: val_loss improved from 0.51735 to 0.51192, saving model to model/iris_deep.h5\n",
      "\n",
      "Epoch 00050: val_loss improved from 0.51192 to 0.50589, saving model to model/iris_deep.h5\n",
      "\n",
      "Epoch 00051: val_loss improved from 0.50589 to 0.50066, saving model to model/iris_deep.h5\n",
      "\n",
      "Epoch 00052: val_loss improved from 0.50066 to 0.49604, saving model to model/iris_deep.h5\n",
      "\n",
      "Epoch 00053: val_loss improved from 0.49604 to 0.49080, saving model to model/iris_deep.h5\n",
      "\n",
      "Epoch 00054: val_loss improved from 0.49080 to 0.48539, saving model to model/iris_deep.h5\n",
      "\n",
      "Epoch 00055: val_loss improved from 0.48539 to 0.47969, saving model to model/iris_deep.h5\n",
      "\n",
      "Epoch 00056: val_loss improved from 0.47969 to 0.47416, saving model to model/iris_deep.h5\n",
      "\n",
      "Epoch 00057: val_loss improved from 0.47416 to 0.47006, saving model to model/iris_deep.h5\n",
      "\n",
      "Epoch 00058: val_loss improved from 0.47006 to 0.46632, saving model to model/iris_deep.h5\n",
      "\n",
      "Epoch 00059: val_loss improved from 0.46632 to 0.46137, saving model to model/iris_deep.h5\n",
      "\n",
      "Epoch 00060: val_loss improved from 0.46137 to 0.45644, saving model to model/iris_deep.h5\n",
      "\n",
      "Epoch 00061: val_loss improved from 0.45644 to 0.45167, saving model to model/iris_deep.h5\n",
      "\n",
      "Epoch 00062: val_loss improved from 0.45167 to 0.44743, saving model to model/iris_deep.h5\n",
      "\n",
      "Epoch 00063: val_loss improved from 0.44743 to 0.44330, saving model to model/iris_deep.h5\n",
      "\n",
      "Epoch 00064: val_loss improved from 0.44330 to 0.43953, saving model to model/iris_deep.h5\n",
      "\n",
      "Epoch 00065: val_loss improved from 0.43953 to 0.43611, saving model to model/iris_deep.h5\n",
      "\n",
      "Epoch 00066: val_loss improved from 0.43611 to 0.43271, saving model to model/iris_deep.h5\n",
      "\n",
      "Epoch 00067: val_loss improved from 0.43271 to 0.42904, saving model to model/iris_deep.h5\n",
      "\n",
      "Epoch 00068: val_loss improved from 0.42904 to 0.42517, saving model to model/iris_deep.h5\n",
      "\n",
      "Epoch 00069: val_loss improved from 0.42517 to 0.42055, saving model to model/iris_deep.h5\n",
      "\n",
      "Epoch 00070: val_loss improved from 0.42055 to 0.41594, saving model to model/iris_deep.h5\n",
      "\n",
      "Epoch 00071: val_loss improved from 0.41594 to 0.41078, saving model to model/iris_deep.h5\n",
      "\n",
      "Epoch 00072: val_loss improved from 0.41078 to 0.40627, saving model to model/iris_deep.h5\n",
      "\n",
      "Epoch 00073: val_loss improved from 0.40627 to 0.40303, saving model to model/iris_deep.h5\n",
      "\n",
      "Epoch 00074: val_loss improved from 0.40303 to 0.40002, saving model to model/iris_deep.h5\n",
      "\n",
      "Epoch 00075: val_loss improved from 0.40002 to 0.39729, saving model to model/iris_deep.h5\n",
      "\n",
      "Epoch 00076: val_loss improved from 0.39729 to 0.39303, saving model to model/iris_deep.h5\n",
      "\n",
      "Epoch 00077: val_loss improved from 0.39303 to 0.38911, saving model to model/iris_deep.h5\n",
      "\n",
      "Epoch 00078: val_loss improved from 0.38911 to 0.38605, saving model to model/iris_deep.h5\n",
      "\n",
      "Epoch 00079: val_loss improved from 0.38605 to 0.38337, saving model to model/iris_deep.h5\n",
      "\n",
      "Epoch 00080: val_loss improved from 0.38337 to 0.38141, saving model to model/iris_deep.h5\n",
      "\n",
      "Epoch 00081: val_loss improved from 0.38141 to 0.37951, saving model to model/iris_deep.h5\n",
      "\n",
      "Epoch 00082: val_loss improved from 0.37951 to 0.37694, saving model to model/iris_deep.h5\n",
      "\n",
      "Epoch 00083: val_loss improved from 0.37694 to 0.37342, saving model to model/iris_deep.h5\n",
      "\n",
      "Epoch 00084: val_loss improved from 0.37342 to 0.37018, saving model to model/iris_deep.h5\n",
      "\n",
      "Epoch 00085: val_loss improved from 0.37018 to 0.36693, saving model to model/iris_deep.h5\n",
      "\n",
      "Epoch 00086: val_loss improved from 0.36693 to 0.36389, saving model to model/iris_deep.h5\n",
      "\n",
      "Epoch 00087: val_loss improved from 0.36389 to 0.36077, saving model to model/iris_deep.h5\n",
      "\n",
      "Epoch 00088: val_loss improved from 0.36077 to 0.35696, saving model to model/iris_deep.h5\n",
      "\n",
      "Epoch 00089: val_loss improved from 0.35696 to 0.35277, saving model to model/iris_deep.h5\n",
      "\n",
      "Epoch 00090: val_loss improved from 0.35277 to 0.34915, saving model to model/iris_deep.h5\n"
     ]
    },
    {
     "name": "stdout",
     "output_type": "stream",
     "text": [
      "\n",
      "Epoch 00091: val_loss improved from 0.34915 to 0.34586, saving model to model/iris_deep.h5\n",
      "\n",
      "Epoch 00092: val_loss improved from 0.34586 to 0.34260, saving model to model/iris_deep.h5\n",
      "\n",
      "Epoch 00093: val_loss improved from 0.34260 to 0.33999, saving model to model/iris_deep.h5\n",
      "\n",
      "Epoch 00094: val_loss improved from 0.33999 to 0.33835, saving model to model/iris_deep.h5\n",
      "\n",
      "Epoch 00095: val_loss improved from 0.33835 to 0.33378, saving model to model/iris_deep.h5\n",
      "\n",
      "Epoch 00096: val_loss improved from 0.33378 to 0.32967, saving model to model/iris_deep.h5\n",
      "\n",
      "Epoch 00097: val_loss improved from 0.32967 to 0.32647, saving model to model/iris_deep.h5\n",
      "\n",
      "Epoch 00098: val_loss improved from 0.32647 to 0.32290, saving model to model/iris_deep.h5\n",
      "\n",
      "Epoch 00099: val_loss improved from 0.32290 to 0.31831, saving model to model/iris_deep.h5\n",
      "\n",
      "Epoch 00100: val_loss improved from 0.31831 to 0.31566, saving model to model/iris_deep.h5\n"
     ]
    },
    {
     "data": {
      "text/plain": [
       "<tensorflow.python.keras.callbacks.History at 0x1ea94893988>"
      ]
     },
     "execution_count": 25,
     "metadata": {},
     "output_type": "execute_result"
    }
   ],
   "source": [
    "model.fit(X_train, Y_eoncoded, validation_split=0.2, epochs=100, batch_size=30, \n",
    "          verbose=0, callbacks=[cp])"
   ]
  },
  {
   "cell_type": "code",
   "execution_count": 31,
   "metadata": {},
   "outputs": [],
   "source": [
    "from tensorflow.keras.models import load_model\n",
    "model_deep = load_model('model/iris_deep.h5')"
   ]
  },
  {
   "cell_type": "code",
   "execution_count": 32,
   "metadata": {},
   "outputs": [
    {
     "data": {
      "text/plain": [
       "array([0.04672099, 0.45200348, 0.5012755 ], dtype=float32)"
      ]
     },
     "execution_count": 32,
     "metadata": {},
     "output_type": "execute_result"
    }
   ],
   "source": [
    "model_deep.predict(test_data)[0]"
   ]
  },
  {
   "cell_type": "code",
   "execution_count": 33,
   "metadata": {},
   "outputs": [
    {
     "data": {
      "text/plain": [
       "2"
      ]
     },
     "execution_count": 33,
     "metadata": {},
     "output_type": "execute_result"
    }
   ],
   "source": [
    "np.argmax(model_deep.predict(test_data)[0])"
   ]
  },
  {
   "cell_type": "code",
   "execution_count": 29,
   "metadata": {},
   "outputs": [],
   "source": [
    "#iris_deep = model_deep.predict_classes(test_data)[0]"
   ]
  },
  {
   "cell_type": "code",
   "execution_count": 30,
   "metadata": {},
   "outputs": [],
   "source": [
    "#print(sp_names[iris_deep])"
   ]
  },
  {
   "cell_type": "code",
   "execution_count": null,
   "metadata": {},
   "outputs": [],
   "source": []
  }
 ],
 "metadata": {
  "kernelspec": {
   "display_name": "Python 3",
   "language": "python",
   "name": "python3"
  },
  "language_info": {
   "codemirror_mode": {
    "name": "ipython",
    "version": 3
   },
   "file_extension": ".py",
   "mimetype": "text/x-python",
   "name": "python",
   "nbconvert_exporter": "python",
   "pygments_lexer": "ipython3",
   "version": "3.7.7"
  }
 },
 "nbformat": 4,
 "nbformat_minor": 4
}
