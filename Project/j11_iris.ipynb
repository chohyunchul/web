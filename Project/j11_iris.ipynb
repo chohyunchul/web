{
 "cells": [
  {
   "cell_type": "markdown",
   "metadata": {},
   "source": [
    "# iris"
   ]
  },
  {
   "cell_type": "code",
   "execution_count": 1,
   "metadata": {},
   "outputs": [],
   "source": [
    "import numpy as np\n",
    "import pandas as pd\n",
    "import seaborn as sns\n",
    "from sklearn.tree import DecisionTreeClassifier\n",
    "from sklearn.datasets import load_iris\n",
    "from sklearn.datasets import make_classification\n",
    "from sklearn.model_selection import train_test_split\n",
    "from sklearn.linear_model import LogisticRegression\n",
    "from sklearn.metrics import accuracy_score\n",
    "from sklearn.svm import SVC\n",
    "from sklearn.tree import export_graphviz\n",
    "from sklearn.tree import DecisionTreeClassifier\n",
    "import warnings\n",
    "#import graphviz\n",
    "import matplotlib.pyplot as plt\n",
    "warnings.filterwarnings('ignore')\n",
    "%matplotlib inline"
   ]
  },
  {
   "cell_type": "code",
   "execution_count": 2,
   "metadata": {},
   "outputs": [],
   "source": [
    "# iris 데이터 가져오기\n",
    "iris = load_iris()"
   ]
  },
  {
   "cell_type": "code",
   "execution_count": 3,
   "metadata": {},
   "outputs": [
    {
     "data": {
      "text/html": [
       "<div>\n",
       "<style scoped>\n",
       "    .dataframe tbody tr th:only-of-type {\n",
       "        vertical-align: middle;\n",
       "    }\n",
       "\n",
       "    .dataframe tbody tr th {\n",
       "        vertical-align: top;\n",
       "    }\n",
       "\n",
       "    .dataframe thead th {\n",
       "        text-align: right;\n",
       "    }\n",
       "</style>\n",
       "<table border=\"1\" class=\"dataframe\">\n",
       "  <thead>\n",
       "    <tr style=\"text-align: right;\">\n",
       "      <th></th>\n",
       "      <th>sepal length (cm)</th>\n",
       "      <th>sepal width (cm)</th>\n",
       "      <th>petal length (cm)</th>\n",
       "      <th>petal width (cm)</th>\n",
       "    </tr>\n",
       "  </thead>\n",
       "  <tbody>\n",
       "    <tr>\n",
       "      <th>0</th>\n",
       "      <td>5.1</td>\n",
       "      <td>3.5</td>\n",
       "      <td>1.4</td>\n",
       "      <td>0.2</td>\n",
       "    </tr>\n",
       "    <tr>\n",
       "      <th>1</th>\n",
       "      <td>4.9</td>\n",
       "      <td>3.0</td>\n",
       "      <td>1.4</td>\n",
       "      <td>0.2</td>\n",
       "    </tr>\n",
       "    <tr>\n",
       "      <th>2</th>\n",
       "      <td>4.7</td>\n",
       "      <td>3.2</td>\n",
       "      <td>1.3</td>\n",
       "      <td>0.2</td>\n",
       "    </tr>\n",
       "    <tr>\n",
       "      <th>3</th>\n",
       "      <td>4.6</td>\n",
       "      <td>3.1</td>\n",
       "      <td>1.5</td>\n",
       "      <td>0.2</td>\n",
       "    </tr>\n",
       "    <tr>\n",
       "      <th>4</th>\n",
       "      <td>5.0</td>\n",
       "      <td>3.6</td>\n",
       "      <td>1.4</td>\n",
       "      <td>0.2</td>\n",
       "    </tr>\n",
       "  </tbody>\n",
       "</table>\n",
       "</div>"
      ],
      "text/plain": [
       "   sepal length (cm)  sepal width (cm)  petal length (cm)  petal width (cm)\n",
       "0                5.1               3.5                1.4               0.2\n",
       "1                4.9               3.0                1.4               0.2\n",
       "2                4.7               3.2                1.3               0.2\n",
       "3                4.6               3.1                1.5               0.2\n",
       "4                5.0               3.6                1.4               0.2"
      ]
     },
     "execution_count": 3,
     "metadata": {},
     "output_type": "execute_result"
    }
   ],
   "source": [
    "# data, target, target_name, feature_name, DESCR, \n",
    "data = iris.data\n",
    "label = iris.target\n",
    "columns = iris.feature_names\n",
    "df = pd.DataFrame(data, columns=columns)\n",
    "df.head()"
   ]
  },
  {
   "cell_type": "code",
   "execution_count": 4,
   "metadata": {},
   "outputs": [],
   "source": [
    "X_train, X_test, y_train, y_test, = train_test_split(data, label, shuffle=True, stratify=label,\n",
    "                                                    test_size=0.2, random_state=2019)"
   ]
  },
  {
   "cell_type": "markdown",
   "metadata": {},
   "source": [
    "- 모델생성"
   ]
  },
  {
   "cell_type": "code",
   "execution_count": 5,
   "metadata": {},
   "outputs": [],
   "source": [
    "lr = LogisticRegression(verbose=1)"
   ]
  },
  {
   "cell_type": "code",
   "execution_count": 6,
   "metadata": {
    "scrolled": true
   },
   "outputs": [
    {
     "name": "stderr",
     "output_type": "stream",
     "text": [
      "[Parallel(n_jobs=1)]: Using backend SequentialBackend with 1 concurrent workers.\n",
      "[Parallel(n_jobs=1)]: Done   1 out of   1 | elapsed:    0.0s finished\n"
     ]
    },
    {
     "data": {
      "text/plain": [
       "LogisticRegression(verbose=1)"
      ]
     },
     "execution_count": 6,
     "metadata": {},
     "output_type": "execute_result"
    }
   ],
   "source": [
    "lr.fit(X_train, y_train)"
   ]
  },
  {
   "cell_type": "markdown",
   "metadata": {},
   "source": [
    "- 학습한 결과 저장"
   ]
  },
  {
   "cell_type": "code",
   "execution_count": 7,
   "metadata": {},
   "outputs": [
    {
     "data": {
      "text/plain": [
       "['model/iris_lr.pkl']"
      ]
     },
     "execution_count": 7,
     "metadata": {},
     "output_type": "execute_result"
    }
   ],
   "source": [
    "import joblib\n",
    "joblib.dump(lr,'model/iris_lr.pkl')"
   ]
  },
  {
   "cell_type": "markdown",
   "metadata": {},
   "source": [
    "- support Vector Machine"
   ]
  },
  {
   "cell_type": "code",
   "execution_count": 8,
   "metadata": {},
   "outputs": [],
   "source": [
    "# 모델 객체 생성\n",
    "svc = SVC()\n",
    "#svc.fit(X_train, y_train)\n",
    "#y_pred_svc = svc.predict(X_test)\n",
    "#accuracy_score(y_test, y_pred)"
   ]
  },
  {
   "cell_type": "code",
   "execution_count": 9,
   "metadata": {},
   "outputs": [
    {
     "data": {
      "text/plain": [
       "SVC()"
      ]
     },
     "execution_count": 9,
     "metadata": {},
     "output_type": "execute_result"
    }
   ],
   "source": [
    "# 학습\n",
    "svc.fit(X_train, y_train)"
   ]
  },
  {
   "cell_type": "code",
   "execution_count": 10,
   "metadata": {},
   "outputs": [
    {
     "data": {
      "text/plain": [
       "['model/iris_svm.pkl']"
      ]
     },
     "execution_count": 10,
     "metadata": {},
     "output_type": "execute_result"
    }
   ],
   "source": [
    "import joblib\n",
    "joblib.dump(lr,'model/iris_svm.pkl')"
   ]
  },
  {
   "cell_type": "markdown",
   "metadata": {},
   "source": [
    "### Decision Tree"
   ]
  },
  {
   "cell_type": "code",
   "execution_count": 11,
   "metadata": {},
   "outputs": [],
   "source": [
    "# 객체 모델 생성  / dtc 소문자만 가능\n",
    "dtc = DecisionTreeClassifier()"
   ]
  },
  {
   "cell_type": "code",
   "execution_count": 12,
   "metadata": {},
   "outputs": [
    {
     "data": {
      "text/plain": [
       "DecisionTreeClassifier()"
      ]
     },
     "execution_count": 12,
     "metadata": {},
     "output_type": "execute_result"
    }
   ],
   "source": [
    "# 학습\n",
    "dtc.fit(X_train, y_train)"
   ]
  },
  {
   "cell_type": "code",
   "execution_count": 13,
   "metadata": {},
   "outputs": [
    {
     "data": {
      "text/plain": [
       "['model/iris_dt.pkl']"
      ]
     },
     "execution_count": 13,
     "metadata": {},
     "output_type": "execute_result"
    }
   ],
   "source": [
    "import joblib\n",
    "joblib.dump(lr,'model/iris_dt.pkl')"
   ]
  },
  {
   "cell_type": "markdown",
   "metadata": {},
   "source": [
    "### 저장된 모델 정확도 산출"
   ]
  },
  {
   "cell_type": "code",
   "execution_count": 14,
   "metadata": {},
   "outputs": [],
   "source": [
    "model_lr = joblib.load('model/iris_lr.pkl')\n",
    "model_svm = joblib.load('model/iris_svm.pkl')\n",
    "model_dt = joblib.load('model/iris_dt.pkl')"
   ]
  },
  {
   "cell_type": "code",
   "execution_count": 15,
   "metadata": {},
   "outputs": [],
   "source": [
    "y_pred_lr = model_lr.predict(X_test)\n",
    "y_pred_svm = model_svm.predict(X_test)\n",
    "y_pred_dt = model_dt.predict(X_test)"
   ]
  },
  {
   "cell_type": "code",
   "execution_count": 16,
   "metadata": {},
   "outputs": [
    {
     "name": "stdout",
     "output_type": "stream",
     "text": [
      "0.9666666666666667 0.9666666666666667 0.9666666666666667\n"
     ]
    }
   ],
   "source": [
    "acc_lr = accuracy_score(y_test, y_pred_lr)\n",
    "acc_svm = accuracy_score(y_test, y_pred_svm)\n",
    "acc_dt = accuracy_score(y_test, y_pred_dt)\n",
    "print(acc_lr, acc_svm, acc_dt)"
   ]
  },
  {
   "cell_type": "markdown",
   "metadata": {},
   "source": [
    "### 한개의 테스트 값 예측"
   ]
  },
  {
   "cell_type": "code",
   "execution_count": 17,
   "metadata": {},
   "outputs": [
    {
     "data": {
      "text/html": [
       "<div>\n",
       "<style scoped>\n",
       "    .dataframe tbody tr th:only-of-type {\n",
       "        vertical-align: middle;\n",
       "    }\n",
       "\n",
       "    .dataframe tbody tr th {\n",
       "        vertical-align: top;\n",
       "    }\n",
       "\n",
       "    .dataframe thead th {\n",
       "        text-align: right;\n",
       "    }\n",
       "</style>\n",
       "<table border=\"1\" class=\"dataframe\">\n",
       "  <thead>\n",
       "    <tr style=\"text-align: right;\">\n",
       "      <th></th>\n",
       "      <th>sepal length (cm)</th>\n",
       "      <th>sepal width (cm)</th>\n",
       "      <th>petal length (cm)</th>\n",
       "      <th>petal width (cm)</th>\n",
       "    </tr>\n",
       "  </thead>\n",
       "  <tbody>\n",
       "    <tr>\n",
       "      <th>145</th>\n",
       "      <td>6.7</td>\n",
       "      <td>3.0</td>\n",
       "      <td>5.2</td>\n",
       "      <td>2.3</td>\n",
       "    </tr>\n",
       "    <tr>\n",
       "      <th>146</th>\n",
       "      <td>6.3</td>\n",
       "      <td>2.5</td>\n",
       "      <td>5.0</td>\n",
       "      <td>1.9</td>\n",
       "    </tr>\n",
       "    <tr>\n",
       "      <th>147</th>\n",
       "      <td>6.5</td>\n",
       "      <td>3.0</td>\n",
       "      <td>5.2</td>\n",
       "      <td>2.0</td>\n",
       "    </tr>\n",
       "    <tr>\n",
       "      <th>148</th>\n",
       "      <td>6.2</td>\n",
       "      <td>3.4</td>\n",
       "      <td>5.4</td>\n",
       "      <td>2.3</td>\n",
       "    </tr>\n",
       "    <tr>\n",
       "      <th>149</th>\n",
       "      <td>5.9</td>\n",
       "      <td>3.0</td>\n",
       "      <td>5.1</td>\n",
       "      <td>1.8</td>\n",
       "    </tr>\n",
       "  </tbody>\n",
       "</table>\n",
       "</div>"
      ],
      "text/plain": [
       "     sepal length (cm)  sepal width (cm)  petal length (cm)  petal width (cm)\n",
       "145                6.7               3.0                5.2               2.3\n",
       "146                6.3               2.5                5.0               1.9\n",
       "147                6.5               3.0                5.2               2.0\n",
       "148                6.2               3.4                5.4               2.3\n",
       "149                5.9               3.0                5.1               1.8"
      ]
     },
     "execution_count": 17,
     "metadata": {},
     "output_type": "execute_result"
    }
   ],
   "source": [
    "df.tail()"
   ]
  },
  {
   "cell_type": "code",
   "execution_count": 18,
   "metadata": {},
   "outputs": [],
   "source": [
    "test_data = np.array([6.7, 3.0, 5.2 , 2.3]).reshape(1,4)   # 2차원을 1차원으로 reshape"
   ]
  },
  {
   "cell_type": "code",
   "execution_count": 19,
   "metadata": {},
   "outputs": [],
   "source": [
    "index_lr = model_lr.predict(test_data)[0]   # [0]으로 숫자만 출력\n",
    "index_svm = model_lr.predict(test_data)[0]\n",
    "index_dt = model_lr.predict(test_data)[0]"
   ]
  },
  {
   "cell_type": "code",
   "execution_count": 20,
   "metadata": {},
   "outputs": [
    {
     "name": "stdout",
     "output_type": "stream",
     "text": [
      "Virginica Virginica Virginica\n"
     ]
    }
   ],
   "source": [
    "sp_names = ['Setosa', 'Versicolor', 'Virginica']\n",
    "print(sp_names[index_lr], sp_names[index_svm], sp_names[index_dt])"
   ]
  },
  {
   "cell_type": "markdown",
   "metadata": {},
   "source": [
    "## Deep learnin model"
   ]
  },
  {
   "cell_type": "code",
   "execution_count": 21,
   "metadata": {},
   "outputs": [
    {
     "name": "stdout",
     "output_type": "stream",
     "text": [
      "Model: \"sequential\"\n",
      "_________________________________________________________________\n",
      "Layer (type)                 Output Shape              Param #   \n",
      "=================================================================\n",
      "dense (Dense)                (None, 12)                60        \n",
      "_________________________________________________________________\n",
      "dense_1 (Dense)              (None, 8)                 104       \n",
      "_________________________________________________________________\n",
      "dense_2 (Dense)              (None, 3)                 27        \n",
      "=================================================================\n",
      "Total params: 191\n",
      "Trainable params: 191\n",
      "Non-trainable params: 0\n",
      "_________________________________________________________________\n"
     ]
    }
   ],
   "source": [
    "# 딥러닝 모델 설정\n",
    "from tensorflow.keras.models import Sequential\n",
    "from tensorflow.keras.layers import Dense\n",
    "from tensorflow.keras.callbacks import ModelCheckpoint\n",
    "from tensorflow import keras\n",
    "from tensorflow.keras.layers import Dense\n",
    "\n",
    "model = Sequential([\n",
    "    Dense(12, input_shape=(4, ), activation='relu'),\n",
    "    Dense(8, activation='relu'),\n",
    "    Dense(3, activation='softmax')\n",
    "]) \n",
    "model.summary()"
   ]
  },
  {
   "cell_type": "code",
   "execution_count": 22,
   "metadata": {},
   "outputs": [],
   "source": [
    "# 모델 컴파일 \n",
    "model.compile(loss='categorical_crossentropy',\n",
    "              optimizer='adam',\n",
    "              metrics=['accuracy'])"
   ]
  },
  {
   "cell_type": "code",
   "execution_count": 23,
   "metadata": {},
   "outputs": [],
   "source": [
    "Y_eoncoded = keras.utils.to_categorical(y_train)"
   ]
  },
  {
   "cell_type": "code",
   "execution_count": 24,
   "metadata": {},
   "outputs": [],
   "source": [
    "cp = ModelCheckpoint('model/iris_deep.h5', verbose=1, save_best_only=True)"
   ]
  },
  {
   "cell_type": "code",
   "execution_count": 25,
   "metadata": {},
   "outputs": [
    {
     "name": "stdout",
     "output_type": "stream",
     "text": [
      "\n",
      "Epoch 00001: val_loss improved from inf to 1.75089, saving model to model/iris_deep.h5\n",
      "\n",
      "Epoch 00002: val_loss improved from 1.75089 to 1.70594, saving model to model/iris_deep.h5\n",
      "\n",
      "Epoch 00003: val_loss improved from 1.70594 to 1.66536, saving model to model/iris_deep.h5\n",
      "\n",
      "Epoch 00004: val_loss improved from 1.66536 to 1.62642, saving model to model/iris_deep.h5\n",
      "\n",
      "Epoch 00005: val_loss improved from 1.62642 to 1.59132, saving model to model/iris_deep.h5\n",
      "\n",
      "Epoch 00006: val_loss improved from 1.59132 to 1.55664, saving model to model/iris_deep.h5\n",
      "\n",
      "Epoch 00007: val_loss improved from 1.55664 to 1.52657, saving model to model/iris_deep.h5\n",
      "\n",
      "Epoch 00008: val_loss improved from 1.52657 to 1.50177, saving model to model/iris_deep.h5\n",
      "\n",
      "Epoch 00009: val_loss improved from 1.50177 to 1.47855, saving model to model/iris_deep.h5\n",
      "\n",
      "Epoch 00010: val_loss improved from 1.47855 to 1.45765, saving model to model/iris_deep.h5\n",
      "\n",
      "Epoch 00011: val_loss improved from 1.45765 to 1.44084, saving model to model/iris_deep.h5\n",
      "\n",
      "Epoch 00012: val_loss improved from 1.44084 to 1.42530, saving model to model/iris_deep.h5\n",
      "\n",
      "Epoch 00013: val_loss improved from 1.42530 to 1.40970, saving model to model/iris_deep.h5\n",
      "\n",
      "Epoch 00014: val_loss improved from 1.40970 to 1.39397, saving model to model/iris_deep.h5\n",
      "\n",
      "Epoch 00015: val_loss improved from 1.39397 to 1.37920, saving model to model/iris_deep.h5\n",
      "\n",
      "Epoch 00016: val_loss improved from 1.37920 to 1.36390, saving model to model/iris_deep.h5\n",
      "\n",
      "Epoch 00017: val_loss improved from 1.36390 to 1.34853, saving model to model/iris_deep.h5\n",
      "\n",
      "Epoch 00018: val_loss improved from 1.34853 to 1.33371, saving model to model/iris_deep.h5\n",
      "\n",
      "Epoch 00019: val_loss improved from 1.33371 to 1.32041, saving model to model/iris_deep.h5\n",
      "\n",
      "Epoch 00020: val_loss improved from 1.32041 to 1.30741, saving model to model/iris_deep.h5\n",
      "\n",
      "Epoch 00021: val_loss improved from 1.30741 to 1.29416, saving model to model/iris_deep.h5\n",
      "\n",
      "Epoch 00022: val_loss improved from 1.29416 to 1.28048, saving model to model/iris_deep.h5\n",
      "\n",
      "Epoch 00023: val_loss improved from 1.28048 to 1.26811, saving model to model/iris_deep.h5\n",
      "\n",
      "Epoch 00024: val_loss improved from 1.26811 to 1.25693, saving model to model/iris_deep.h5\n",
      "\n",
      "Epoch 00025: val_loss improved from 1.25693 to 1.24578, saving model to model/iris_deep.h5\n",
      "\n",
      "Epoch 00026: val_loss improved from 1.24578 to 1.23458, saving model to model/iris_deep.h5\n",
      "\n",
      "Epoch 00027: val_loss improved from 1.23458 to 1.22440, saving model to model/iris_deep.h5\n",
      "\n",
      "Epoch 00028: val_loss improved from 1.22440 to 1.21369, saving model to model/iris_deep.h5\n",
      "\n",
      "Epoch 00029: val_loss improved from 1.21369 to 1.20400, saving model to model/iris_deep.h5\n",
      "\n",
      "Epoch 00030: val_loss improved from 1.20400 to 1.19393, saving model to model/iris_deep.h5\n",
      "\n",
      "Epoch 00031: val_loss improved from 1.19393 to 1.18394, saving model to model/iris_deep.h5\n",
      "\n",
      "Epoch 00032: val_loss improved from 1.18394 to 1.17401, saving model to model/iris_deep.h5\n",
      "\n",
      "Epoch 00033: val_loss improved from 1.17401 to 1.16400, saving model to model/iris_deep.h5\n",
      "\n",
      "Epoch 00034: val_loss improved from 1.16400 to 1.15505, saving model to model/iris_deep.h5\n",
      "\n",
      "Epoch 00035: val_loss improved from 1.15505 to 1.14730, saving model to model/iris_deep.h5\n",
      "\n",
      "Epoch 00036: val_loss improved from 1.14730 to 1.13884, saving model to model/iris_deep.h5\n",
      "\n",
      "Epoch 00037: val_loss improved from 1.13884 to 1.13069, saving model to model/iris_deep.h5\n",
      "\n",
      "Epoch 00038: val_loss improved from 1.13069 to 1.12311, saving model to model/iris_deep.h5\n",
      "\n",
      "Epoch 00039: val_loss improved from 1.12311 to 1.11541, saving model to model/iris_deep.h5\n",
      "\n",
      "Epoch 00040: val_loss improved from 1.11541 to 1.10794, saving model to model/iris_deep.h5\n",
      "\n",
      "Epoch 00041: val_loss improved from 1.10794 to 1.10009, saving model to model/iris_deep.h5\n",
      "\n",
      "Epoch 00042: val_loss improved from 1.10009 to 1.09203, saving model to model/iris_deep.h5\n",
      "\n",
      "Epoch 00043: val_loss improved from 1.09203 to 1.08464, saving model to model/iris_deep.h5\n",
      "\n",
      "Epoch 00044: val_loss improved from 1.08464 to 1.07718, saving model to model/iris_deep.h5\n",
      "\n",
      "Epoch 00045: val_loss improved from 1.07718 to 1.06874, saving model to model/iris_deep.h5\n",
      "\n",
      "Epoch 00046: val_loss improved from 1.06874 to 1.06200, saving model to model/iris_deep.h5\n",
      "\n",
      "Epoch 00047: val_loss improved from 1.06200 to 1.05490, saving model to model/iris_deep.h5\n",
      "\n",
      "Epoch 00048: val_loss improved from 1.05490 to 1.04840, saving model to model/iris_deep.h5\n",
      "\n",
      "Epoch 00049: val_loss improved from 1.04840 to 1.04178, saving model to model/iris_deep.h5\n",
      "\n",
      "Epoch 00050: val_loss improved from 1.04178 to 1.03505, saving model to model/iris_deep.h5\n",
      "\n",
      "Epoch 00051: val_loss improved from 1.03505 to 1.02890, saving model to model/iris_deep.h5\n",
      "\n",
      "Epoch 00052: val_loss improved from 1.02890 to 1.02422, saving model to model/iris_deep.h5\n",
      "\n",
      "Epoch 00053: val_loss improved from 1.02422 to 1.01961, saving model to model/iris_deep.h5\n",
      "\n",
      "Epoch 00054: val_loss improved from 1.01961 to 1.01486, saving model to model/iris_deep.h5\n",
      "\n",
      "Epoch 00055: val_loss improved from 1.01486 to 1.01000, saving model to model/iris_deep.h5\n",
      "\n",
      "Epoch 00056: val_loss improved from 1.01000 to 1.00379, saving model to model/iris_deep.h5\n",
      "\n",
      "Epoch 00057: val_loss improved from 1.00379 to 0.99732, saving model to model/iris_deep.h5\n",
      "\n",
      "Epoch 00058: val_loss improved from 0.99732 to 0.99117, saving model to model/iris_deep.h5\n",
      "\n",
      "Epoch 00059: val_loss improved from 0.99117 to 0.98430, saving model to model/iris_deep.h5\n",
      "\n",
      "Epoch 00060: val_loss improved from 0.98430 to 0.97839, saving model to model/iris_deep.h5\n",
      "\n",
      "Epoch 00061: val_loss improved from 0.97839 to 0.97228, saving model to model/iris_deep.h5\n",
      "\n",
      "Epoch 00062: val_loss improved from 0.97228 to 0.96857, saving model to model/iris_deep.h5\n",
      "\n",
      "Epoch 00063: val_loss improved from 0.96857 to 0.96617, saving model to model/iris_deep.h5\n",
      "\n",
      "Epoch 00064: val_loss improved from 0.96617 to 0.96175, saving model to model/iris_deep.h5\n",
      "\n",
      "Epoch 00065: val_loss improved from 0.96175 to 0.95571, saving model to model/iris_deep.h5\n",
      "\n",
      "Epoch 00066: val_loss improved from 0.95571 to 0.94681, saving model to model/iris_deep.h5\n",
      "\n",
      "Epoch 00067: val_loss improved from 0.94681 to 0.93963, saving model to model/iris_deep.h5\n",
      "\n",
      "Epoch 00068: val_loss improved from 0.93963 to 0.93223, saving model to model/iris_deep.h5\n",
      "\n",
      "Epoch 00069: val_loss improved from 0.93223 to 0.92508, saving model to model/iris_deep.h5\n",
      "\n",
      "Epoch 00070: val_loss improved from 0.92508 to 0.91665, saving model to model/iris_deep.h5\n",
      "\n",
      "Epoch 00071: val_loss improved from 0.91665 to 0.90869, saving model to model/iris_deep.h5\n",
      "\n",
      "Epoch 00072: val_loss improved from 0.90869 to 0.90172, saving model to model/iris_deep.h5\n",
      "\n",
      "Epoch 00073: val_loss improved from 0.90172 to 0.89566, saving model to model/iris_deep.h5\n",
      "\n",
      "Epoch 00074: val_loss improved from 0.89566 to 0.88871, saving model to model/iris_deep.h5\n",
      "\n",
      "Epoch 00075: val_loss improved from 0.88871 to 0.88271, saving model to model/iris_deep.h5\n",
      "\n",
      "Epoch 00076: val_loss improved from 0.88271 to 0.87617, saving model to model/iris_deep.h5\n",
      "\n",
      "Epoch 00077: val_loss improved from 0.87617 to 0.87089, saving model to model/iris_deep.h5\n",
      "\n",
      "Epoch 00078: val_loss improved from 0.87089 to 0.86334, saving model to model/iris_deep.h5\n",
      "\n",
      "Epoch 00079: val_loss improved from 0.86334 to 0.85502, saving model to model/iris_deep.h5\n",
      "\n",
      "Epoch 00080: val_loss improved from 0.85502 to 0.84715, saving model to model/iris_deep.h5\n",
      "\n",
      "Epoch 00081: val_loss improved from 0.84715 to 0.83850, saving model to model/iris_deep.h5\n",
      "\n",
      "Epoch 00082: val_loss improved from 0.83850 to 0.82825, saving model to model/iris_deep.h5\n",
      "\n",
      "Epoch 00083: val_loss improved from 0.82825 to 0.81787, saving model to model/iris_deep.h5\n",
      "\n",
      "Epoch 00084: val_loss improved from 0.81787 to 0.80845, saving model to model/iris_deep.h5\n",
      "\n",
      "Epoch 00085: val_loss improved from 0.80845 to 0.79804, saving model to model/iris_deep.h5\n",
      "\n",
      "Epoch 00086: val_loss improved from 0.79804 to 0.78779, saving model to model/iris_deep.h5\n",
      "\n",
      "Epoch 00087: val_loss improved from 0.78779 to 0.77925, saving model to model/iris_deep.h5\n",
      "\n",
      "Epoch 00088: val_loss improved from 0.77925 to 0.77671, saving model to model/iris_deep.h5\n",
      "\n",
      "Epoch 00089: val_loss did not improve from 0.77671\n",
      "\n",
      "Epoch 00090: val_loss did not improve from 0.77671\n",
      "\n",
      "Epoch 00091: val_loss improved from 0.77671 to 0.76852, saving model to model/iris_deep.h5\n",
      "\n",
      "Epoch 00092: val_loss improved from 0.76852 to 0.75441, saving model to model/iris_deep.h5\n",
      "\n",
      "Epoch 00093: val_loss improved from 0.75441 to 0.73822, saving model to model/iris_deep.h5\n",
      "\n",
      "Epoch 00094: val_loss improved from 0.73822 to 0.72629, saving model to model/iris_deep.h5\n",
      "\n"
     ]
    },
    {
     "name": "stdout",
     "output_type": "stream",
     "text": [
      "Epoch 00095: val_loss improved from 0.72629 to 0.71777, saving model to model/iris_deep.h5\n",
      "\n",
      "Epoch 00096: val_loss improved from 0.71777 to 0.71544, saving model to model/iris_deep.h5\n",
      "\n",
      "Epoch 00097: val_loss improved from 0.71544 to 0.71319, saving model to model/iris_deep.h5\n",
      "\n",
      "Epoch 00098: val_loss improved from 0.71319 to 0.70530, saving model to model/iris_deep.h5\n",
      "\n",
      "Epoch 00099: val_loss improved from 0.70530 to 0.69549, saving model to model/iris_deep.h5\n",
      "\n",
      "Epoch 00100: val_loss improved from 0.69549 to 0.68313, saving model to model/iris_deep.h5\n"
     ]
    },
    {
     "data": {
      "text/plain": [
       "<tensorflow.python.keras.callbacks.History at 0x2334698a108>"
      ]
     },
     "execution_count": 25,
     "metadata": {},
     "output_type": "execute_result"
    }
   ],
   "source": [
    "model.fit(X_train, Y_eoncoded, validation_split=0.2, epochs=100, batch_size=30, \n",
    "          verbose=0, callbacks=[cp])"
   ]
  },
  {
   "cell_type": "code",
   "execution_count": 26,
   "metadata": {},
   "outputs": [],
   "source": [
    "from tensorflow.keras.models import load_model\n",
    "model_deep = load_model('model/iris_deep.h5')"
   ]
  },
  {
   "cell_type": "code",
   "execution_count": 27,
   "metadata": {},
   "outputs": [
    {
     "data": {
      "text/plain": [
       "array([0.09798731, 0.40114182, 0.5008708 ], dtype=float32)"
      ]
     },
     "execution_count": 27,
     "metadata": {},
     "output_type": "execute_result"
    }
   ],
   "source": [
    "model_deep.predict(test_data)[0]"
   ]
  },
  {
   "cell_type": "code",
   "execution_count": 28,
   "metadata": {},
   "outputs": [
    {
     "data": {
      "text/plain": [
       "2"
      ]
     },
     "execution_count": 28,
     "metadata": {},
     "output_type": "execute_result"
    }
   ],
   "source": [
    "np.argmax(model_deep.predict(test_data)[0])"
   ]
  },
  {
   "cell_type": "code",
   "execution_count": 29,
   "metadata": {},
   "outputs": [],
   "source": [
    "#iris_deep = model_deep.predict_classes(test_data)[0]"
   ]
  },
  {
   "cell_type": "code",
   "execution_count": 30,
   "metadata": {},
   "outputs": [],
   "source": [
    "#print(sp_names[iris_deep])"
   ]
  },
  {
   "cell_type": "code",
   "execution_count": null,
   "metadata": {},
   "outputs": [],
   "source": []
  }
 ],
 "metadata": {
  "kernelspec": {
   "display_name": "Python 3",
   "language": "python",
   "name": "python3"
  },
  "language_info": {
   "codemirror_mode": {
    "name": "ipython",
    "version": 3
   },
   "file_extension": ".py",
   "mimetype": "text/x-python",
   "name": "python",
   "nbconvert_exporter": "python",
   "pygments_lexer": "ipython3",
   "version": "3.7.7"
  }
 },
 "nbformat": 4,
 "nbformat_minor": 4
}
