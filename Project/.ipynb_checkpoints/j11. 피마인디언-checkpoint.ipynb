{
 "cells": [
  {
   "cell_type": "markdown",
   "metadata": {},
   "source": [
    "# 피마 인디언 분석 사례"
   ]
  },
  {
   "cell_type": "code",
   "execution_count": 1,
   "metadata": {
    "scrolled": true
   },
   "outputs": [
    {
     "name": "stdout",
     "output_type": "stream",
     "text": [
      "   pregnant  plasma  pressure  thickness  insulin   BMI  pedigree  age  class\n",
      "0         6     148        72         35        0  33.6     0.627   50      1\n",
      "1         1      85        66         29        0  26.6     0.351   31      0\n",
      "2         8     183        64          0        0  23.3     0.672   32      1\n",
      "3         1      89        66         23       94  28.1     0.167   21      0\n",
      "4         0     137        40         35      168  43.1     2.288   33      1\n"
     ]
    }
   ],
   "source": [
    "# 준비된 수술 환자 데이터를 불러들임\n",
    "import pandas as pd\n",
    "df = pd.read_csv('data/11.pima-indians-diabetes.csv',\n",
    "                 names = [\"pregnant\", \"plasma\", \"pressure\", \"thickness\",  \n",
    "                 \"insulin\", \"BMI\", \"pedigree\", \"age\", \"class\"])\n",
    "\n",
    "print(df.head(5))"
   ]
  },
  {
   "cell_type": "code",
   "execution_count": 2,
   "metadata": {},
   "outputs": [],
   "source": [
    "import matplotlib.pyplot as plt\n",
    "import seaborn as sns\n",
    "%matplotlib inline"
   ]
  },
  {
   "cell_type": "markdown",
   "metadata": {},
   "source": [
    "# 로지스틱 회귀 딥러닝"
   ]
  },
  {
   "cell_type": "code",
   "execution_count": 3,
   "metadata": {},
   "outputs": [
    {
     "data": {
      "text/plain": [
       "'2.0.0'"
      ]
     },
     "execution_count": 3,
     "metadata": {},
     "output_type": "execute_result"
    }
   ],
   "source": [
    "import numpy as np\n",
    "import tensorflow as tf\n",
    "tf.__version__"
   ]
  },
  {
   "cell_type": "code",
   "execution_count": 4,
   "metadata": {},
   "outputs": [],
   "source": [
    "from tensorflow.keras.models import Sequential\n",
    "from tensorflow.keras.layers import Dense"
   ]
  },
  {
   "cell_type": "code",
   "execution_count": 5,
   "metadata": {},
   "outputs": [],
   "source": [
    "# 실행할 때마다 같은 결과를 출력하기 위한 seed 값 설정\n",
    "seed = 2020\n",
    "np.random.seed(seed)\n",
    "tf.random.set_seed(seed)"
   ]
  },
  {
   "cell_type": "code",
   "execution_count": 6,
   "metadata": {},
   "outputs": [
    {
     "data": {
      "text/plain": [
       "array([[  6.   , 148.   ,  72.   ,  35.   ,   0.   ,  33.6  ,   0.627,\n",
       "         50.   ,   1.   ],\n",
       "       [  1.   ,  85.   ,  66.   ,  29.   ,   0.   ,  26.6  ,   0.351,\n",
       "         31.   ,   0.   ],\n",
       "       [  8.   , 183.   ,  64.   ,   0.   ,   0.   ,  23.3  ,   0.672,\n",
       "         32.   ,   1.   ]])"
      ]
     },
     "execution_count": 6,
     "metadata": {},
     "output_type": "execute_result"
    }
   ],
   "source": [
    "Data_set = np.loadtxt(\"data/11.pima-indians-diabetes.csv\", delimiter=\",\")\n",
    "Data_set[:3, :]"
   ]
  },
  {
   "cell_type": "code",
   "execution_count": 7,
   "metadata": {},
   "outputs": [
    {
     "data": {
      "text/plain": [
       "((768, 8), (768,))"
      ]
     },
     "execution_count": 7,
     "metadata": {},
     "output_type": "execute_result"
    }
   ],
   "source": [
    "X = Data_set[:, 0:8]\n",
    "Y = Data_set[:, 8]\n",
    "X.shape, Y.shape"
   ]
  },
  {
   "cell_type": "code",
   "execution_count": 8,
   "metadata": {},
   "outputs": [],
   "source": [
    "from sklearn.model_selection import train_test_split"
   ]
  },
  {
   "cell_type": "code",
   "execution_count": 9,
   "metadata": {},
   "outputs": [],
   "source": [
    "X_train, X_test, y_train, y_test, = train_test_split(X, Y, test_size=0.2, random_state=11)"
   ]
  },
  {
   "cell_type": "code",
   "execution_count": 10,
   "metadata": {},
   "outputs": [
    {
     "name": "stdout",
     "output_type": "stream",
     "text": [
      "Model: \"sequential\"\n",
      "_________________________________________________________________\n",
      "Layer (type)                 Output Shape              Param #   \n",
      "=================================================================\n",
      "dense (Dense)                (None, 12)                108       \n",
      "_________________________________________________________________\n",
      "dense_1 (Dense)              (None, 8)                 104       \n",
      "_________________________________________________________________\n",
      "dense_2 (Dense)              (None, 1)                 9         \n",
      "=================================================================\n",
      "Total params: 221\n",
      "Trainable params: 221\n",
      "Non-trainable params: 0\n",
      "_________________________________________________________________\n"
     ]
    }
   ],
   "source": [
    "model = Sequential([\n",
    "    Dense(12, input_shape=(8,), activation='relu'),\n",
    "    Dense(8, activation='relu'),\n",
    "    Dense(1, activation='sigmoid')])\n",
    "model.summary()"
   ]
  },
  {
   "cell_type": "code",
   "execution_count": 11,
   "metadata": {},
   "outputs": [],
   "source": [
    "# 딥러닝 환경 설정 (오차함수, 최적화함수)\n",
    "# metrics : 측정함수\n",
    "model.compile(loss='binary_crossentropy', optimizer='adam', metrics=['accuracy'])"
   ]
  },
  {
   "cell_type": "code",
   "execution_count": 12,
   "metadata": {},
   "outputs": [
    {
     "name": "stdout",
     "output_type": "stream",
     "text": [
      "Train on 491 samples, validate on 123 samples\n",
      "Epoch 1/200\n",
      "491/491 [==============================] - 1s 2ms/sample - loss: 10.7061 - accuracy: 0.3544 - val_loss: 4.4697 - val_accuracy: 0.4472\n",
      "Epoch 2/200\n",
      "491/491 [==============================] - 0s 117us/sample - loss: 3.3298 - accuracy: 0.4440 - val_loss: 2.1051 - val_accuracy: 0.4309\n",
      "Epoch 3/200\n",
      "491/491 [==============================] - 0s 117us/sample - loss: 2.0191 - accuracy: 0.5010 - val_loss: 1.4767 - val_accuracy: 0.4472\n",
      "Epoch 4/200\n",
      "491/491 [==============================] - 0s 120us/sample - loss: 1.7320 - accuracy: 0.4786 - val_loss: 1.2607 - val_accuracy: 0.4472\n",
      "Epoch 5/200\n",
      "491/491 [==============================] - 0s 119us/sample - loss: 1.4714 - accuracy: 0.4827 - val_loss: 1.2550 - val_accuracy: 0.4878\n",
      "Epoch 6/200\n",
      "491/491 [==============================] - 0s 120us/sample - loss: 1.2998 - accuracy: 0.5356 - val_loss: 1.1174 - val_accuracy: 0.4715\n",
      "Epoch 7/200\n",
      "491/491 [==============================] - 0s 121us/sample - loss: 1.1439 - accuracy: 0.5336 - val_loss: 1.2008 - val_accuracy: 0.5203\n",
      "Epoch 8/200\n",
      "491/491 [==============================] - 0s 116us/sample - loss: 1.0765 - accuracy: 0.6029 - val_loss: 0.9565 - val_accuracy: 0.5122\n",
      "Epoch 9/200\n",
      "491/491 [==============================] - 0s 128us/sample - loss: 0.9644 - accuracy: 0.5845 - val_loss: 0.8821 - val_accuracy: 0.5447\n",
      "Epoch 10/200\n",
      "491/491 [==============================] - 0s 124us/sample - loss: 0.9138 - accuracy: 0.6293 - val_loss: 0.8548 - val_accuracy: 0.5122\n",
      "Epoch 11/200\n",
      "491/491 [==============================] - 0s 119us/sample - loss: 0.8734 - accuracy: 0.6314 - val_loss: 0.8436 - val_accuracy: 0.5854\n",
      "Epoch 12/200\n",
      "491/491 [==============================] - 0s 122us/sample - loss: 0.7884 - accuracy: 0.6497 - val_loss: 0.7969 - val_accuracy: 0.5122\n",
      "Epoch 13/200\n",
      "491/491 [==============================] - 0s 124us/sample - loss: 0.7749 - accuracy: 0.6538 - val_loss: 0.8959 - val_accuracy: 0.5528\n",
      "Epoch 14/200\n",
      "491/491 [==============================] - 0s 124us/sample - loss: 0.7650 - accuracy: 0.6395 - val_loss: 0.8519 - val_accuracy: 0.5854\n",
      "Epoch 15/200\n",
      "491/491 [==============================] - 0s 120us/sample - loss: 0.7653 - accuracy: 0.6415 - val_loss: 0.9141 - val_accuracy: 0.5447\n",
      "Epoch 16/200\n",
      "491/491 [==============================] - 0s 119us/sample - loss: 0.8033 - accuracy: 0.6578 - val_loss: 0.7206 - val_accuracy: 0.6341\n",
      "Epoch 17/200\n",
      "491/491 [==============================] - 0s 140us/sample - loss: 0.7297 - accuracy: 0.6640 - val_loss: 0.7390 - val_accuracy: 0.6260\n",
      "Epoch 18/200\n",
      "491/491 [==============================] - 0s 146us/sample - loss: 0.7302 - accuracy: 0.6701 - val_loss: 0.7291 - val_accuracy: 0.6260\n",
      "Epoch 19/200\n",
      "491/491 [==============================] - 0s 146us/sample - loss: 0.7081 - accuracy: 0.6660 - val_loss: 0.7196 - val_accuracy: 0.6260\n",
      "Epoch 20/200\n",
      "491/491 [==============================] - 0s 134us/sample - loss: 0.6955 - accuracy: 0.6701 - val_loss: 0.7092 - val_accuracy: 0.6504\n",
      "Epoch 21/200\n",
      "491/491 [==============================] - 0s 138us/sample - loss: 0.6906 - accuracy: 0.6823 - val_loss: 0.7334 - val_accuracy: 0.6341\n",
      "Epoch 22/200\n",
      "491/491 [==============================] - 0s 110us/sample - loss: 0.6816 - accuracy: 0.6741 - val_loss: 0.7449 - val_accuracy: 0.6504\n",
      "Epoch 23/200\n",
      "491/491 [==============================] - 0s 104us/sample - loss: 0.7110 - accuracy: 0.6884 - val_loss: 0.7263 - val_accuracy: 0.6504\n",
      "Epoch 24/200\n",
      "491/491 [==============================] - 0s 111us/sample - loss: 0.6593 - accuracy: 0.6884 - val_loss: 0.8196 - val_accuracy: 0.6341\n",
      "Epoch 25/200\n",
      "491/491 [==============================] - 0s 121us/sample - loss: 0.6640 - accuracy: 0.6802 - val_loss: 0.7355 - val_accuracy: 0.6179\n",
      "Epoch 26/200\n",
      "491/491 [==============================] - 0s 119us/sample - loss: 0.6918 - accuracy: 0.6721 - val_loss: 0.6669 - val_accuracy: 0.6585\n",
      "Epoch 27/200\n",
      "491/491 [==============================] - 0s 122us/sample - loss: 0.6767 - accuracy: 0.6925 - val_loss: 0.6577 - val_accuracy: 0.6992\n",
      "Epoch 28/200\n",
      "491/491 [==============================] - 0s 121us/sample - loss: 0.6700 - accuracy: 0.6660 - val_loss: 0.6611 - val_accuracy: 0.6667\n",
      "Epoch 29/200\n",
      "491/491 [==============================] - 0s 125us/sample - loss: 0.6464 - accuracy: 0.6965 - val_loss: 0.7144 - val_accuracy: 0.6423\n",
      "Epoch 30/200\n",
      "491/491 [==============================] - 0s 125us/sample - loss: 0.6846 - accuracy: 0.6741 - val_loss: 0.7474 - val_accuracy: 0.6748\n",
      "Epoch 31/200\n",
      "491/491 [==============================] - 0s 122us/sample - loss: 0.6472 - accuracy: 0.7006 - val_loss: 0.6716 - val_accuracy: 0.6829\n",
      "Epoch 32/200\n",
      "491/491 [==============================] - 0s 122us/sample - loss: 0.6321 - accuracy: 0.6965 - val_loss: 0.6655 - val_accuracy: 0.6748\n",
      "Epoch 33/200\n",
      "491/491 [==============================] - 0s 124us/sample - loss: 0.6425 - accuracy: 0.7047 - val_loss: 0.6864 - val_accuracy: 0.6992\n",
      "Epoch 34/200\n",
      "491/491 [==============================] - 0s 121us/sample - loss: 0.6779 - accuracy: 0.7108 - val_loss: 0.7184 - val_accuracy: 0.7154\n",
      "Epoch 35/200\n",
      "491/491 [==============================] - 0s 123us/sample - loss: 0.6359 - accuracy: 0.7047 - val_loss: 0.6735 - val_accuracy: 0.6585\n",
      "Epoch 36/200\n",
      "491/491 [==============================] - 0s 122us/sample - loss: 0.6261 - accuracy: 0.6904 - val_loss: 0.7005 - val_accuracy: 0.6829\n",
      "Epoch 37/200\n",
      "491/491 [==============================] - 0s 112us/sample - loss: 0.6362 - accuracy: 0.7067 - val_loss: 0.7303 - val_accuracy: 0.6667\n",
      "Epoch 38/200\n",
      "491/491 [==============================] - 0s 120us/sample - loss: 0.6374 - accuracy: 0.7149 - val_loss: 0.6697 - val_accuracy: 0.7073\n",
      "Epoch 39/200\n",
      "491/491 [==============================] - 0s 132us/sample - loss: 0.6440 - accuracy: 0.6965 - val_loss: 0.7276 - val_accuracy: 0.6748\n",
      "Epoch 40/200\n",
      "491/491 [==============================] - 0s 152us/sample - loss: 0.6213 - accuracy: 0.7088 - val_loss: 0.6626 - val_accuracy: 0.6748\n",
      "Epoch 41/200\n",
      "491/491 [==============================] - 0s 132us/sample - loss: 0.6376 - accuracy: 0.6945 - val_loss: 0.6729 - val_accuracy: 0.6992\n",
      "Epoch 42/200\n",
      "491/491 [==============================] - 0s 136us/sample - loss: 0.6318 - accuracy: 0.7088 - val_loss: 0.7011 - val_accuracy: 0.6748\n",
      "Epoch 43/200\n",
      "491/491 [==============================] - 0s 136us/sample - loss: 0.6303 - accuracy: 0.7088 - val_loss: 0.6703 - val_accuracy: 0.6911\n",
      "Epoch 44/200\n",
      "491/491 [==============================] - 0s 116us/sample - loss: 0.6219 - accuracy: 0.7067 - val_loss: 0.6101 - val_accuracy: 0.7236\n",
      "Epoch 45/200\n",
      "491/491 [==============================] - 0s 117us/sample - loss: 0.6155 - accuracy: 0.7088 - val_loss: 0.6441 - val_accuracy: 0.7073\n",
      "Epoch 46/200\n",
      "491/491 [==============================] - 0s 119us/sample - loss: 0.6598 - accuracy: 0.6904 - val_loss: 0.8152 - val_accuracy: 0.6585\n",
      "Epoch 47/200\n",
      "491/491 [==============================] - 0s 123us/sample - loss: 0.6325 - accuracy: 0.7108 - val_loss: 0.6145 - val_accuracy: 0.7073\n",
      "Epoch 48/200\n",
      "491/491 [==============================] - 0s 124us/sample - loss: 0.6282 - accuracy: 0.7088 - val_loss: 0.7844 - val_accuracy: 0.6748\n",
      "Epoch 49/200\n",
      "491/491 [==============================] - 0s 122us/sample - loss: 0.6385 - accuracy: 0.6986 - val_loss: 0.5908 - val_accuracy: 0.7236\n",
      "Epoch 50/200\n",
      "491/491 [==============================] - 0s 123us/sample - loss: 0.6232 - accuracy: 0.7251 - val_loss: 0.8468 - val_accuracy: 0.6179\n",
      "Epoch 51/200\n",
      "491/491 [==============================] - 0s 124us/sample - loss: 0.6738 - accuracy: 0.7108 - val_loss: 0.6009 - val_accuracy: 0.7317\n",
      "Epoch 52/200\n",
      "491/491 [==============================] - 0s 125us/sample - loss: 0.5862 - accuracy: 0.7169 - val_loss: 0.6146 - val_accuracy: 0.7317\n",
      "Epoch 53/200\n",
      "491/491 [==============================] - 0s 121us/sample - loss: 0.6096 - accuracy: 0.7149 - val_loss: 0.6308 - val_accuracy: 0.7154\n",
      "Epoch 54/200\n",
      "491/491 [==============================] - 0s 124us/sample - loss: 0.5887 - accuracy: 0.7169 - val_loss: 0.6516 - val_accuracy: 0.7073\n",
      "Epoch 55/200\n",
      "491/491 [==============================] - 0s 124us/sample - loss: 0.5958 - accuracy: 0.7128 - val_loss: 0.6458 - val_accuracy: 0.7236\n",
      "Epoch 56/200\n"
     ]
    },
    {
     "name": "stdout",
     "output_type": "stream",
     "text": [
      "491/491 [==============================] - 0s 123us/sample - loss: 0.5817 - accuracy: 0.7230 - val_loss: 0.6244 - val_accuracy: 0.7236\n",
      "Epoch 57/200\n",
      "491/491 [==============================] - 0s 124us/sample - loss: 0.6097 - accuracy: 0.7088 - val_loss: 0.8717 - val_accuracy: 0.6179\n",
      "Epoch 58/200\n",
      "491/491 [==============================] - 0s 123us/sample - loss: 0.6241 - accuracy: 0.7006 - val_loss: 0.5876 - val_accuracy: 0.7154\n",
      "Epoch 59/200\n",
      "491/491 [==============================] - 0s 122us/sample - loss: 0.5717 - accuracy: 0.7189 - val_loss: 0.6081 - val_accuracy: 0.7073\n",
      "Epoch 60/200\n",
      "491/491 [==============================] - 0s 122us/sample - loss: 0.5665 - accuracy: 0.7006 - val_loss: 0.6088 - val_accuracy: 0.6911\n",
      "Epoch 61/200\n",
      "491/491 [==============================] - 0s 146us/sample - loss: 0.5539 - accuracy: 0.7271 - val_loss: 0.6065 - val_accuracy: 0.6992\n",
      "Epoch 62/200\n",
      "491/491 [==============================] - 0s 150us/sample - loss: 0.6348 - accuracy: 0.7108 - val_loss: 0.5878 - val_accuracy: 0.7073\n",
      "Epoch 63/200\n",
      "491/491 [==============================] - 0s 130us/sample - loss: 0.5791 - accuracy: 0.7189 - val_loss: 0.6753 - val_accuracy: 0.6667\n",
      "Epoch 64/200\n",
      "491/491 [==============================] - 0s 140us/sample - loss: 0.5741 - accuracy: 0.7271 - val_loss: 0.7786 - val_accuracy: 0.6423\n",
      "Epoch 65/200\n",
      "491/491 [==============================] - 0s 134us/sample - loss: 0.5915 - accuracy: 0.7169 - val_loss: 0.6643 - val_accuracy: 0.6992\n",
      "Epoch 66/200\n",
      "491/491 [==============================] - 0s 108us/sample - loss: 0.5549 - accuracy: 0.7271 - val_loss: 0.6026 - val_accuracy: 0.7073\n",
      "Epoch 67/200\n",
      "491/491 [==============================] - 0s 106us/sample - loss: 0.5560 - accuracy: 0.7352 - val_loss: 0.6063 - val_accuracy: 0.7073\n",
      "Epoch 68/200\n",
      "491/491 [==============================] - 0s 118us/sample - loss: 0.5559 - accuracy: 0.7230 - val_loss: 0.5942 - val_accuracy: 0.7154\n",
      "Epoch 69/200\n",
      "491/491 [==============================] - 0s 120us/sample - loss: 0.5673 - accuracy: 0.7210 - val_loss: 0.6236 - val_accuracy: 0.6829\n",
      "Epoch 70/200\n",
      "491/491 [==============================] - 0s 126us/sample - loss: 0.5479 - accuracy: 0.7291 - val_loss: 0.5885 - val_accuracy: 0.6992\n",
      "Epoch 71/200\n",
      "491/491 [==============================] - 0s 120us/sample - loss: 0.5787 - accuracy: 0.7149 - val_loss: 0.7349 - val_accuracy: 0.6341\n",
      "Epoch 72/200\n",
      "491/491 [==============================] - 0s 122us/sample - loss: 0.5583 - accuracy: 0.7413 - val_loss: 0.6242 - val_accuracy: 0.6748\n",
      "Epoch 73/200\n",
      "491/491 [==============================] - 0s 120us/sample - loss: 0.5672 - accuracy: 0.7230 - val_loss: 0.6150 - val_accuracy: 0.6911\n",
      "Epoch 74/200\n",
      "491/491 [==============================] - 0s 114us/sample - loss: 0.5541 - accuracy: 0.7312 - val_loss: 0.6023 - val_accuracy: 0.6911\n",
      "Epoch 75/200\n",
      "491/491 [==============================] - 0s 123us/sample - loss: 0.5626 - accuracy: 0.7271 - val_loss: 0.6234 - val_accuracy: 0.6748\n",
      "Epoch 76/200\n",
      "491/491 [==============================] - 0s 149us/sample - loss: 0.5546 - accuracy: 0.7291 - val_loss: 0.6420 - val_accuracy: 0.7073\n",
      "Epoch 77/200\n",
      "491/491 [==============================] - 0s 121us/sample - loss: 0.5501 - accuracy: 0.7189 - val_loss: 0.6120 - val_accuracy: 0.6911\n",
      "Epoch 78/200\n",
      "491/491 [==============================] - 0s 119us/sample - loss: 0.5331 - accuracy: 0.7271 - val_loss: 0.5966 - val_accuracy: 0.6992\n",
      "Epoch 79/200\n",
      "491/491 [==============================] - 0s 122us/sample - loss: 0.5725 - accuracy: 0.7312 - val_loss: 0.6056 - val_accuracy: 0.6829\n",
      "Epoch 80/200\n",
      "491/491 [==============================] - 0s 122us/sample - loss: 0.5513 - accuracy: 0.7454 - val_loss: 0.5961 - val_accuracy: 0.7154\n",
      "Epoch 81/200\n",
      "491/491 [==============================] - 0s 122us/sample - loss: 0.5459 - accuracy: 0.7352 - val_loss: 0.5853 - val_accuracy: 0.6992\n",
      "Epoch 82/200\n",
      "491/491 [==============================] - 0s 124us/sample - loss: 0.5458 - accuracy: 0.7352 - val_loss: 0.6230 - val_accuracy: 0.6829\n",
      "Epoch 83/200\n",
      "491/491 [==============================] - 0s 140us/sample - loss: 0.5421 - accuracy: 0.7373 - val_loss: 0.5841 - val_accuracy: 0.6992\n",
      "Epoch 84/200\n",
      "491/491 [==============================] - 0s 156us/sample - loss: 0.5690 - accuracy: 0.7271 - val_loss: 0.6030 - val_accuracy: 0.6829\n",
      "Epoch 85/200\n",
      "491/491 [==============================] - 0s 138us/sample - loss: 0.5404 - accuracy: 0.7332 - val_loss: 0.6878 - val_accuracy: 0.6829\n",
      "Epoch 86/200\n",
      "491/491 [==============================] - 0s 148us/sample - loss: 0.5313 - accuracy: 0.7373 - val_loss: 0.6895 - val_accuracy: 0.6667\n",
      "Epoch 87/200\n",
      "491/491 [==============================] - 0s 124us/sample - loss: 0.5345 - accuracy: 0.7251 - val_loss: 0.5939 - val_accuracy: 0.6829\n",
      "Epoch 88/200\n",
      "491/491 [==============================] - 0s 95us/sample - loss: 0.5335 - accuracy: 0.7271 - val_loss: 0.6686 - val_accuracy: 0.6911\n",
      "Epoch 89/200\n",
      "491/491 [==============================] - 0s 120us/sample - loss: 0.5352 - accuracy: 0.7393 - val_loss: 0.5764 - val_accuracy: 0.7073\n",
      "Epoch 90/200\n",
      "491/491 [==============================] - 0s 122us/sample - loss: 0.5427 - accuracy: 0.7393 - val_loss: 0.6256 - val_accuracy: 0.6911\n",
      "Epoch 91/200\n",
      "491/491 [==============================] - 0s 126us/sample - loss: 0.5370 - accuracy: 0.7108 - val_loss: 0.5765 - val_accuracy: 0.7236\n",
      "Epoch 92/200\n",
      "491/491 [==============================] - 0s 116us/sample - loss: 0.5383 - accuracy: 0.7373 - val_loss: 0.6150 - val_accuracy: 0.6911\n",
      "Epoch 93/200\n",
      "491/491 [==============================] - 0s 127us/sample - loss: 0.5744 - accuracy: 0.7291 - val_loss: 0.5703 - val_accuracy: 0.7073\n",
      "Epoch 94/200\n",
      "491/491 [==============================] - 0s 126us/sample - loss: 0.5478 - accuracy: 0.7373 - val_loss: 0.6189 - val_accuracy: 0.6992\n",
      "Epoch 95/200\n",
      "491/491 [==============================] - 0s 124us/sample - loss: 0.5205 - accuracy: 0.7475 - val_loss: 0.5953 - val_accuracy: 0.6992\n",
      "Epoch 96/200\n",
      "491/491 [==============================] - 0s 145us/sample - loss: 0.5413 - accuracy: 0.7352 - val_loss: 0.6188 - val_accuracy: 0.6992\n",
      "Epoch 97/200\n",
      "491/491 [==============================] - 0s 129us/sample - loss: 0.5297 - accuracy: 0.7291 - val_loss: 0.5816 - val_accuracy: 0.6911\n",
      "Epoch 98/200\n",
      "491/491 [==============================] - 0s 124us/sample - loss: 0.5505 - accuracy: 0.7312 - val_loss: 0.6111 - val_accuracy: 0.7073\n",
      "Epoch 99/200\n",
      "491/491 [==============================] - 0s 123us/sample - loss: 0.5431 - accuracy: 0.7352 - val_loss: 0.5961 - val_accuracy: 0.6992\n",
      "Epoch 100/200\n",
      "491/491 [==============================] - 0s 126us/sample - loss: 0.5514 - accuracy: 0.7332 - val_loss: 0.6094 - val_accuracy: 0.6748\n",
      "Epoch 101/200\n",
      "491/491 [==============================] - 0s 120us/sample - loss: 0.5363 - accuracy: 0.7413 - val_loss: 0.6472 - val_accuracy: 0.7154\n",
      "Epoch 102/200\n",
      "491/491 [==============================] - 0s 158us/sample - loss: 0.5549 - accuracy: 0.7434 - val_loss: 0.6051 - val_accuracy: 0.7073\n",
      "Epoch 103/200\n",
      "491/491 [==============================] - 0s 120us/sample - loss: 0.5240 - accuracy: 0.7251 - val_loss: 0.5852 - val_accuracy: 0.6911\n",
      "Epoch 104/200\n",
      "491/491 [==============================] - 0s 146us/sample - loss: 0.5189 - accuracy: 0.7393 - val_loss: 0.5822 - val_accuracy: 0.7154\n",
      "Epoch 105/200\n",
      "491/491 [==============================] - 0s 134us/sample - loss: 0.5508 - accuracy: 0.7230 - val_loss: 0.6523 - val_accuracy: 0.6911\n",
      "Epoch 106/200\n",
      "491/491 [==============================] - 0s 146us/sample - loss: 0.5262 - accuracy: 0.7413 - val_loss: 0.5974 - val_accuracy: 0.6992\n",
      "Epoch 107/200\n",
      "491/491 [==============================] - 0s 140us/sample - loss: 0.5741 - accuracy: 0.7373 - val_loss: 0.5814 - val_accuracy: 0.7073\n",
      "Epoch 108/200\n",
      "491/491 [==============================] - 0s 150us/sample - loss: 0.5466 - accuracy: 0.7373 - val_loss: 0.6208 - val_accuracy: 0.6992\n",
      "Epoch 109/200\n",
      "491/491 [==============================] - 0s 100us/sample - loss: 0.5315 - accuracy: 0.7434 - val_loss: 0.5915 - val_accuracy: 0.7073\n",
      "Epoch 110/200\n",
      "491/491 [==============================] - 0s 124us/sample - loss: 0.5208 - accuracy: 0.7332 - val_loss: 0.6956 - val_accuracy: 0.6260\n",
      "Epoch 111/200\n"
     ]
    },
    {
     "name": "stdout",
     "output_type": "stream",
     "text": [
      "491/491 [==============================] - 0s 130us/sample - loss: 0.5371 - accuracy: 0.7475 - val_loss: 0.6316 - val_accuracy: 0.6992\n",
      "Epoch 112/200\n",
      "491/491 [==============================] - 0s 131us/sample - loss: 0.5239 - accuracy: 0.7312 - val_loss: 0.6452 - val_accuracy: 0.6992\n",
      "Epoch 113/200\n",
      "491/491 [==============================] - 0s 127us/sample - loss: 0.5406 - accuracy: 0.7352 - val_loss: 0.6038 - val_accuracy: 0.7073\n",
      "Epoch 114/200\n",
      "491/491 [==============================] - 0s 138us/sample - loss: 0.5282 - accuracy: 0.7495 - val_loss: 0.6224 - val_accuracy: 0.7154\n",
      "Epoch 115/200\n",
      "491/491 [==============================] - 0s 134us/sample - loss: 0.5249 - accuracy: 0.7332 - val_loss: 0.6042 - val_accuracy: 0.7317\n",
      "Epoch 116/200\n",
      "491/491 [==============================] - 0s 127us/sample - loss: 0.5368 - accuracy: 0.7332 - val_loss: 0.6127 - val_accuracy: 0.6992\n",
      "Epoch 117/200\n",
      "491/491 [==============================] - 0s 124us/sample - loss: 0.5377 - accuracy: 0.7393 - val_loss: 0.5670 - val_accuracy: 0.6992\n",
      "Epoch 118/200\n",
      "491/491 [==============================] - 0s 133us/sample - loss: 0.5609 - accuracy: 0.7312 - val_loss: 0.5729 - val_accuracy: 0.6748\n",
      "Epoch 119/200\n",
      "491/491 [==============================] - 0s 135us/sample - loss: 0.5211 - accuracy: 0.7576 - val_loss: 0.6186 - val_accuracy: 0.6992\n",
      "Epoch 120/200\n",
      "491/491 [==============================] - 0s 128us/sample - loss: 0.5087 - accuracy: 0.7576 - val_loss: 0.6202 - val_accuracy: 0.7154\n",
      "Epoch 121/200\n",
      "491/491 [==============================] - 0s 128us/sample - loss: 0.5130 - accuracy: 0.7495 - val_loss: 0.6245 - val_accuracy: 0.6829\n",
      "Epoch 122/200\n",
      "491/491 [==============================] - 0s 120us/sample - loss: 0.5244 - accuracy: 0.7291 - val_loss: 0.5656 - val_accuracy: 0.7073\n",
      "Epoch 123/200\n",
      "491/491 [==============================] - 0s 118us/sample - loss: 0.5170 - accuracy: 0.7393 - val_loss: 0.5887 - val_accuracy: 0.7317\n",
      "Epoch 124/200\n",
      "491/491 [==============================] - 0s 124us/sample - loss: 0.5148 - accuracy: 0.7495 - val_loss: 0.6091 - val_accuracy: 0.7073\n",
      "Epoch 125/200\n",
      "491/491 [==============================] - 0s 150us/sample - loss: 0.5162 - accuracy: 0.7515 - val_loss: 0.5724 - val_accuracy: 0.7154\n",
      "Epoch 126/200\n",
      "491/491 [==============================] - 0s 152us/sample - loss: 0.5196 - accuracy: 0.7393 - val_loss: 0.6060 - val_accuracy: 0.6992\n",
      "Epoch 127/200\n",
      "491/491 [==============================] - 0s 138us/sample - loss: 0.5250 - accuracy: 0.7515 - val_loss: 0.5977 - val_accuracy: 0.6667\n",
      "Epoch 128/200\n",
      "491/491 [==============================] - 0s 138us/sample - loss: 0.5740 - accuracy: 0.7373 - val_loss: 0.5920 - val_accuracy: 0.7236\n",
      "Epoch 129/200\n",
      "491/491 [==============================] - 0s 134us/sample - loss: 0.5440 - accuracy: 0.7251 - val_loss: 0.5684 - val_accuracy: 0.6829\n",
      "Epoch 130/200\n",
      "491/491 [==============================] - 0s 95us/sample - loss: 0.5148 - accuracy: 0.7413 - val_loss: 0.5907 - val_accuracy: 0.7154\n",
      "Epoch 131/200\n",
      "491/491 [==============================] - 0s 110us/sample - loss: 0.5036 - accuracy: 0.7413 - val_loss: 0.6461 - val_accuracy: 0.7154\n",
      "Epoch 132/200\n",
      "491/491 [==============================] - 0s 110us/sample - loss: 0.5426 - accuracy: 0.7617 - val_loss: 0.5396 - val_accuracy: 0.6992\n",
      "Epoch 133/200\n",
      "491/491 [==============================] - 0s 114us/sample - loss: 0.5104 - accuracy: 0.7536 - val_loss: 0.5614 - val_accuracy: 0.6585\n",
      "Epoch 134/200\n",
      "491/491 [==============================] - 0s 119us/sample - loss: 0.5188 - accuracy: 0.7352 - val_loss: 0.5661 - val_accuracy: 0.7236\n",
      "Epoch 135/200\n",
      "491/491 [==============================] - 0s 122us/sample - loss: 0.6119 - accuracy: 0.7393 - val_loss: 0.5725 - val_accuracy: 0.6911\n",
      "Epoch 136/200\n",
      "491/491 [==============================] - 0s 122us/sample - loss: 0.5227 - accuracy: 0.7576 - val_loss: 0.5386 - val_accuracy: 0.6911\n",
      "Epoch 137/200\n",
      "491/491 [==============================] - 0s 119us/sample - loss: 0.5069 - accuracy: 0.7495 - val_loss: 0.5730 - val_accuracy: 0.6911\n",
      "Epoch 138/200\n",
      "491/491 [==============================] - 0s 120us/sample - loss: 0.5122 - accuracy: 0.7617 - val_loss: 0.6426 - val_accuracy: 0.6829\n",
      "Epoch 139/200\n",
      "491/491 [==============================] - 0s 122us/sample - loss: 0.5125 - accuracy: 0.7434 - val_loss: 0.5920 - val_accuracy: 0.7154\n",
      "Epoch 140/200\n",
      "491/491 [==============================] - 0s 122us/sample - loss: 0.5016 - accuracy: 0.7556 - val_loss: 0.5656 - val_accuracy: 0.6829\n",
      "Epoch 141/200\n",
      "491/491 [==============================] - 0s 127us/sample - loss: 0.5039 - accuracy: 0.7536 - val_loss: 0.5833 - val_accuracy: 0.6911\n",
      "Epoch 142/200\n",
      "491/491 [==============================] - 0s 123us/sample - loss: 0.5013 - accuracy: 0.7536 - val_loss: 0.5452 - val_accuracy: 0.6911\n",
      "Epoch 143/200\n",
      "491/491 [==============================] - 0s 123us/sample - loss: 0.5031 - accuracy: 0.7658 - val_loss: 0.5500 - val_accuracy: 0.6748\n",
      "Epoch 144/200\n",
      "491/491 [==============================] - 0s 122us/sample - loss: 0.5104 - accuracy: 0.7495 - val_loss: 0.5670 - val_accuracy: 0.6748\n",
      "Epoch 145/200\n",
      "491/491 [==============================] - 0s 120us/sample - loss: 0.5003 - accuracy: 0.7475 - val_loss: 0.5838 - val_accuracy: 0.6748\n",
      "Epoch 146/200\n",
      "491/491 [==============================] - 0s 125us/sample - loss: 0.5007 - accuracy: 0.7576 - val_loss: 0.5981 - val_accuracy: 0.6911\n",
      "Epoch 147/200\n",
      "491/491 [==============================] - 0s 158us/sample - loss: 0.5056 - accuracy: 0.7576 - val_loss: 0.5856 - val_accuracy: 0.7154\n",
      "Epoch 148/200\n",
      "491/491 [==============================] - 0s 154us/sample - loss: 0.5110 - accuracy: 0.7454 - val_loss: 0.6958 - val_accuracy: 0.6585\n",
      "Epoch 149/200\n",
      "491/491 [==============================] - 0s 136us/sample - loss: 0.5310 - accuracy: 0.7210 - val_loss: 0.5685 - val_accuracy: 0.7236\n",
      "Epoch 150/200\n",
      "491/491 [==============================] - 0s 132us/sample - loss: 0.5190 - accuracy: 0.7475 - val_loss: 0.5567 - val_accuracy: 0.7073\n",
      "Epoch 151/200\n",
      "491/491 [==============================] - 0s 130us/sample - loss: 0.4887 - accuracy: 0.7576 - val_loss: 0.6561 - val_accuracy: 0.6911\n",
      "Epoch 152/200\n",
      "491/491 [==============================] - 0s 102us/sample - loss: 0.5222 - accuracy: 0.7271 - val_loss: 0.5365 - val_accuracy: 0.7154\n",
      "Epoch 153/200\n",
      "491/491 [==============================] - 0s 120us/sample - loss: 0.5098 - accuracy: 0.7597 - val_loss: 0.5773 - val_accuracy: 0.6992\n",
      "Epoch 154/200\n",
      "491/491 [==============================] - 0s 122us/sample - loss: 0.5220 - accuracy: 0.7434 - val_loss: 0.5311 - val_accuracy: 0.7398\n",
      "Epoch 155/200\n",
      "491/491 [==============================] - 0s 119us/sample - loss: 0.5150 - accuracy: 0.7576 - val_loss: 0.5446 - val_accuracy: 0.6911\n",
      "Epoch 156/200\n",
      "491/491 [==============================] - 0s 121us/sample - loss: 0.4975 - accuracy: 0.7576 - val_loss: 0.5558 - val_accuracy: 0.7154\n",
      "Epoch 157/200\n",
      "491/491 [==============================] - 0s 121us/sample - loss: 0.4900 - accuracy: 0.7617 - val_loss: 0.5877 - val_accuracy: 0.7073\n",
      "Epoch 158/200\n",
      "491/491 [==============================] - 0s 125us/sample - loss: 0.5011 - accuracy: 0.7495 - val_loss: 0.6778 - val_accuracy: 0.6341\n",
      "Epoch 159/200\n",
      "491/491 [==============================] - 0s 123us/sample - loss: 0.5120 - accuracy: 0.7576 - val_loss: 0.5437 - val_accuracy: 0.6911\n",
      "Epoch 160/200\n",
      "491/491 [==============================] - 0s 122us/sample - loss: 0.5003 - accuracy: 0.7699 - val_loss: 0.6311 - val_accuracy: 0.6911\n",
      "Epoch 161/200\n",
      "491/491 [==============================] - 0s 122us/sample - loss: 0.4964 - accuracy: 0.7515 - val_loss: 0.5464 - val_accuracy: 0.6829\n",
      "Epoch 162/200\n",
      "491/491 [==============================] - 0s 122us/sample - loss: 0.5031 - accuracy: 0.7413 - val_loss: 0.5547 - val_accuracy: 0.6992\n",
      "Epoch 163/200\n",
      "491/491 [==============================] - 0s 122us/sample - loss: 0.4926 - accuracy: 0.7739 - val_loss: 0.5808 - val_accuracy: 0.7236\n",
      "Epoch 164/200\n",
      "491/491 [==============================] - 0s 126us/sample - loss: 0.5021 - accuracy: 0.7475 - val_loss: 0.5364 - val_accuracy: 0.6911\n",
      "Epoch 165/200\n",
      "491/491 [==============================] - 0s 124us/sample - loss: 0.5031 - accuracy: 0.7556 - val_loss: 0.5895 - val_accuracy: 0.6911\n",
      "Epoch 166/200\n"
     ]
    },
    {
     "name": "stdout",
     "output_type": "stream",
     "text": [
      "491/491 [==============================] - 0s 122us/sample - loss: 0.4919 - accuracy: 0.7637 - val_loss: 0.6145 - val_accuracy: 0.6911\n",
      "Epoch 167/200\n",
      "491/491 [==============================] - 0s 124us/sample - loss: 0.4967 - accuracy: 0.7597 - val_loss: 0.6003 - val_accuracy: 0.6992\n",
      "Epoch 168/200\n",
      "491/491 [==============================] - 0s 130us/sample - loss: 0.4927 - accuracy: 0.7475 - val_loss: 0.5641 - val_accuracy: 0.7154\n",
      "Epoch 169/200\n",
      "491/491 [==============================] - 0s 156us/sample - loss: 0.4889 - accuracy: 0.7597 - val_loss: 0.5670 - val_accuracy: 0.6748\n",
      "Epoch 170/200\n",
      "491/491 [==============================] - 0s 144us/sample - loss: 0.4901 - accuracy: 0.7475 - val_loss: 0.5614 - val_accuracy: 0.7154\n",
      "Epoch 171/200\n",
      "491/491 [==============================] - 0s 140us/sample - loss: 0.5260 - accuracy: 0.7536 - val_loss: 0.5756 - val_accuracy: 0.7073\n",
      "Epoch 172/200\n",
      "491/491 [==============================] - 0s 128us/sample - loss: 0.5738 - accuracy: 0.7597 - val_loss: 0.5954 - val_accuracy: 0.6585\n",
      "Epoch 173/200\n",
      "491/491 [==============================] - 0s 124us/sample - loss: 0.5442 - accuracy: 0.7556 - val_loss: 0.5650 - val_accuracy: 0.7073\n",
      "Epoch 174/200\n",
      "491/491 [==============================] - 0s 98us/sample - loss: 0.4839 - accuracy: 0.7699 - val_loss: 0.6438 - val_accuracy: 0.6911\n",
      "Epoch 175/200\n",
      "491/491 [==============================] - 0s 118us/sample - loss: 0.4836 - accuracy: 0.7760 - val_loss: 0.5621 - val_accuracy: 0.6829\n",
      "Epoch 176/200\n",
      "491/491 [==============================] - 0s 118us/sample - loss: 0.5266 - accuracy: 0.7536 - val_loss: 0.5712 - val_accuracy: 0.7236\n",
      "Epoch 177/200\n",
      "491/491 [==============================] - 0s 124us/sample - loss: 0.5118 - accuracy: 0.7556 - val_loss: 0.5499 - val_accuracy: 0.7154\n",
      "Epoch 178/200\n",
      "491/491 [==============================] - 0s 122us/sample - loss: 0.4901 - accuracy: 0.7719 - val_loss: 0.5615 - val_accuracy: 0.7236\n",
      "Epoch 179/200\n",
      "491/491 [==============================] - 0s 124us/sample - loss: 0.5000 - accuracy: 0.7699 - val_loss: 0.5676 - val_accuracy: 0.6829\n",
      "Epoch 180/200\n",
      "491/491 [==============================] - 0s 118us/sample - loss: 0.4918 - accuracy: 0.7475 - val_loss: 0.5512 - val_accuracy: 0.7073\n",
      "Epoch 181/200\n",
      "491/491 [==============================] - 0s 133us/sample - loss: 0.5094 - accuracy: 0.7515 - val_loss: 0.5910 - val_accuracy: 0.7154\n",
      "Epoch 182/200\n",
      "491/491 [==============================] - 0s 128us/sample - loss: 0.5183 - accuracy: 0.7597 - val_loss: 0.6143 - val_accuracy: 0.6992\n",
      "Epoch 183/200\n",
      "491/491 [==============================] - 0s 129us/sample - loss: 0.4876 - accuracy: 0.7597 - val_loss: 0.5524 - val_accuracy: 0.6992\n",
      "Epoch 184/200\n",
      "491/491 [==============================] - 0s 124us/sample - loss: 0.4969 - accuracy: 0.7678 - val_loss: 0.5570 - val_accuracy: 0.7236\n",
      "Epoch 185/200\n",
      "491/491 [==============================] - 0s 122us/sample - loss: 0.4739 - accuracy: 0.7658 - val_loss: 0.5545 - val_accuracy: 0.6829\n",
      "Epoch 186/200\n",
      "491/491 [==============================] - 0s 126us/sample - loss: 0.4854 - accuracy: 0.7597 - val_loss: 0.5565 - val_accuracy: 0.6748\n",
      "Epoch 187/200\n",
      "491/491 [==============================] - 0s 140us/sample - loss: 0.4802 - accuracy: 0.7617 - val_loss: 0.5467 - val_accuracy: 0.6992\n",
      "Epoch 188/200\n",
      "491/491 [==============================] - 0s 125us/sample - loss: 0.4866 - accuracy: 0.7719 - val_loss: 0.5446 - val_accuracy: 0.6911\n",
      "Epoch 189/200\n",
      "491/491 [==============================] - 0s 122us/sample - loss: 0.4795 - accuracy: 0.7699 - val_loss: 0.5420 - val_accuracy: 0.6992\n",
      "Epoch 190/200\n",
      "491/491 [==============================] - 0s 154us/sample - loss: 0.4788 - accuracy: 0.7576 - val_loss: 0.5998 - val_accuracy: 0.7073\n",
      "Epoch 191/200\n",
      "491/491 [==============================] - 0s 163us/sample - loss: 0.4787 - accuracy: 0.7699 - val_loss: 0.6001 - val_accuracy: 0.7236\n",
      "Epoch 192/200\n",
      "491/491 [==============================] - 0s 146us/sample - loss: 0.5119 - accuracy: 0.7373 - val_loss: 0.5726 - val_accuracy: 0.6748\n",
      "Epoch 193/200\n",
      "491/491 [==============================] - 0s 140us/sample - loss: 0.4994 - accuracy: 0.7637 - val_loss: 0.5340 - val_accuracy: 0.7154\n",
      "Epoch 194/200\n",
      "491/491 [==============================] - 0s 136us/sample - loss: 0.4889 - accuracy: 0.7597 - val_loss: 0.5733 - val_accuracy: 0.6829\n",
      "Epoch 195/200\n",
      "491/491 [==============================] - 0s 97us/sample - loss: 0.4820 - accuracy: 0.7780 - val_loss: 0.5522 - val_accuracy: 0.6829\n",
      "Epoch 196/200\n",
      "491/491 [==============================] - 0s 120us/sample - loss: 0.4963 - accuracy: 0.7800 - val_loss: 0.5839 - val_accuracy: 0.7317\n",
      "Epoch 197/200\n",
      "491/491 [==============================] - 0s 119us/sample - loss: 0.4788 - accuracy: 0.7617 - val_loss: 0.5561 - val_accuracy: 0.6911\n",
      "Epoch 198/200\n",
      "491/491 [==============================] - 0s 122us/sample - loss: 0.4942 - accuracy: 0.7658 - val_loss: 0.5749 - val_accuracy: 0.6911\n",
      "Epoch 199/200\n",
      "491/491 [==============================] - 0s 122us/sample - loss: 0.4827 - accuracy: 0.7637 - val_loss: 0.6088 - val_accuracy: 0.7236\n",
      "Epoch 200/200\n",
      "491/491 [==============================] - 0s 120us/sample - loss: 0.4932 - accuracy: 0.7637 - val_loss: 0.5723 - val_accuracy: 0.7317\n"
     ]
    },
    {
     "data": {
      "text/plain": [
       "<tensorflow.python.keras.callbacks.History at 0x1e952ee5bc8>"
      ]
     },
     "execution_count": 12,
     "metadata": {},
     "output_type": "execute_result"
    }
   ],
   "source": [
    "# 딥너링 실행 / validation_split 검증세트 딥러닝은 따로 해줘야 함.\n",
    "model.fit(X_train, y_train, validation_split=0.2,\n",
    "          epochs=200, batch_size=10)"
   ]
  },
  {
   "cell_type": "code",
   "execution_count": 13,
   "metadata": {},
   "outputs": [
    {
     "name": "stdout",
     "output_type": "stream",
     "text": [
      "154/1 - 0s - loss: 0.4791 - accuracy: 0.7403\n"
     ]
    },
    {
     "data": {
      "text/plain": [
       "0.74025977"
      ]
     },
     "execution_count": 13,
     "metadata": {},
     "output_type": "execute_result"
    }
   ],
   "source": [
    "model.evaluate(X_test, y_test, verbose=2)[1]"
   ]
  },
  {
   "cell_type": "code",
   "execution_count": 14,
   "metadata": {},
   "outputs": [
    {
     "ename": "OSError",
     "evalue": "SavedModel file does not exist at: model/pima.h5/{saved_model.pbtxt|saved_model.pb}",
     "output_type": "error",
     "traceback": [
      "\u001b[1;31m---------------------------------------------------------------------------\u001b[0m",
      "\u001b[1;31mOSError\u001b[0m                                   Traceback (most recent call last)",
      "\u001b[1;32m<ipython-input-14-71890c110bf2>\u001b[0m in \u001b[0;36m<module>\u001b[1;34m\u001b[0m\n\u001b[0;32m      1\u001b[0m \u001b[1;32mfrom\u001b[0m \u001b[0mtensorflow\u001b[0m\u001b[1;33m.\u001b[0m\u001b[0mkeras\u001b[0m\u001b[1;33m.\u001b[0m\u001b[0mmodels\u001b[0m \u001b[1;32mimport\u001b[0m \u001b[0mload_model\u001b[0m\u001b[1;33m\u001b[0m\u001b[1;33m\u001b[0m\u001b[0m\n\u001b[1;32m----> 2\u001b[1;33m \u001b[0mmodel_deep\u001b[0m \u001b[1;33m=\u001b[0m \u001b[0mload_model\u001b[0m\u001b[1;33m(\u001b[0m\u001b[1;34m'model/pima.h5'\u001b[0m\u001b[1;33m)\u001b[0m\u001b[1;33m\u001b[0m\u001b[1;33m\u001b[0m\u001b[0m\n\u001b[0m",
      "\u001b[1;32mC:\\ProgramData\\Anaconda3\\envs\\pyflask\\lib\\site-packages\\tensorflow_core\\python\\keras\\saving\\save.py\u001b[0m in \u001b[0;36mload_model\u001b[1;34m(filepath, custom_objects, compile)\u001b[0m\n\u001b[0;32m    147\u001b[0m \u001b[1;33m\u001b[0m\u001b[0m\n\u001b[0;32m    148\u001b[0m   \u001b[1;32mif\u001b[0m \u001b[0misinstance\u001b[0m\u001b[1;33m(\u001b[0m\u001b[0mfilepath\u001b[0m\u001b[1;33m,\u001b[0m \u001b[0msix\u001b[0m\u001b[1;33m.\u001b[0m\u001b[0mstring_types\u001b[0m\u001b[1;33m)\u001b[0m\u001b[1;33m:\u001b[0m\u001b[1;33m\u001b[0m\u001b[1;33m\u001b[0m\u001b[0m\n\u001b[1;32m--> 149\u001b[1;33m     \u001b[0mloader_impl\u001b[0m\u001b[1;33m.\u001b[0m\u001b[0mparse_saved_model\u001b[0m\u001b[1;33m(\u001b[0m\u001b[0mfilepath\u001b[0m\u001b[1;33m)\u001b[0m\u001b[1;33m\u001b[0m\u001b[1;33m\u001b[0m\u001b[0m\n\u001b[0m\u001b[0;32m    150\u001b[0m     \u001b[1;32mreturn\u001b[0m \u001b[0msaved_model_load\u001b[0m\u001b[1;33m.\u001b[0m\u001b[0mload\u001b[0m\u001b[1;33m(\u001b[0m\u001b[0mfilepath\u001b[0m\u001b[1;33m,\u001b[0m \u001b[0mcompile\u001b[0m\u001b[1;33m)\u001b[0m\u001b[1;33m\u001b[0m\u001b[1;33m\u001b[0m\u001b[0m\n\u001b[0;32m    151\u001b[0m \u001b[1;33m\u001b[0m\u001b[0m\n",
      "\u001b[1;32mC:\\ProgramData\\Anaconda3\\envs\\pyflask\\lib\\site-packages\\tensorflow_core\\python\\saved_model\\loader_impl.py\u001b[0m in \u001b[0;36mparse_saved_model\u001b[1;34m(export_dir)\u001b[0m\n\u001b[0;32m     81\u001b[0m                   (export_dir,\n\u001b[0;32m     82\u001b[0m                    \u001b[0mconstants\u001b[0m\u001b[1;33m.\u001b[0m\u001b[0mSAVED_MODEL_FILENAME_PBTXT\u001b[0m\u001b[1;33m,\u001b[0m\u001b[1;33m\u001b[0m\u001b[1;33m\u001b[0m\u001b[0m\n\u001b[1;32m---> 83\u001b[1;33m                    constants.SAVED_MODEL_FILENAME_PB))\n\u001b[0m\u001b[0;32m     84\u001b[0m \u001b[1;33m\u001b[0m\u001b[0m\n\u001b[0;32m     85\u001b[0m \u001b[1;33m\u001b[0m\u001b[0m\n",
      "\u001b[1;31mOSError\u001b[0m: SavedModel file does not exist at: model/pima.h5/{saved_model.pbtxt|saved_model.pb}"
     ]
    }
   ],
   "source": [
    "from tensorflow.keras.models import load_model\n",
    "model_deep = load_model('model/pima.h5')"
   ]
  },
  {
   "cell_type": "code",
   "execution_count": null,
   "metadata": {},
   "outputs": [],
   "source": []
  }
 ],
 "metadata": {
  "kernelspec": {
   "display_name": "Python 3",
   "language": "python",
   "name": "python3"
  },
  "language_info": {
   "codemirror_mode": {
    "name": "ipython",
    "version": 3
   },
   "file_extension": ".py",
   "mimetype": "text/x-python",
   "name": "python",
   "nbconvert_exporter": "python",
   "pygments_lexer": "ipython3",
   "version": "3.7.7"
  }
 },
 "nbformat": 4,
 "nbformat_minor": 4
}
