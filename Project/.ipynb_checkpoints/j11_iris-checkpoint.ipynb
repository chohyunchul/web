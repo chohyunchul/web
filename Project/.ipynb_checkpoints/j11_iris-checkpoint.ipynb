{
 "cells": [
  {
   "cell_type": "markdown",
   "metadata": {},
   "source": [
    "# iris"
   ]
  },
  {
   "cell_type": "code",
   "execution_count": 46,
   "metadata": {},
   "outputs": [],
   "source": [
    "import numpy as np\n",
    "import pandas as pd\n",
    "import seaborn as sns\n",
    "from sklearn.tree import DecisionTreeClassifier\n",
    "from sklearn.datasets import load_iris\n",
    "from sklearn.datasets import make_classification\n",
    "from sklearn.model_selection import train_test_split\n",
    "from sklearn.linear_model import LogisticRegression\n",
    "from sklearn.metrics import accuracy_score\n",
    "from sklearn.svm import SVC\n",
    "from sklearn.tree import export_graphviz\n",
    "from sklearn.tree import DecisionTreeClassifier\n",
    "import warnings\n",
    "#import graphviz\n",
    "import matplotlib.pyplot as plt\n",
    "warnings.filterwarnings('ignore')\n",
    "%matplotlib inline"
   ]
  },
  {
   "cell_type": "code",
   "execution_count": 47,
   "metadata": {},
   "outputs": [],
   "source": [
    "# iris 데이터 가져오기\n",
    "iris = load_iris()"
   ]
  },
  {
   "cell_type": "code",
   "execution_count": 48,
   "metadata": {},
   "outputs": [
    {
     "data": {
      "text/html": [
       "<div>\n",
       "<style scoped>\n",
       "    .dataframe tbody tr th:only-of-type {\n",
       "        vertical-align: middle;\n",
       "    }\n",
       "\n",
       "    .dataframe tbody tr th {\n",
       "        vertical-align: top;\n",
       "    }\n",
       "\n",
       "    .dataframe thead th {\n",
       "        text-align: right;\n",
       "    }\n",
       "</style>\n",
       "<table border=\"1\" class=\"dataframe\">\n",
       "  <thead>\n",
       "    <tr style=\"text-align: right;\">\n",
       "      <th></th>\n",
       "      <th>sepal length (cm)</th>\n",
       "      <th>sepal width (cm)</th>\n",
       "      <th>petal length (cm)</th>\n",
       "      <th>petal width (cm)</th>\n",
       "    </tr>\n",
       "  </thead>\n",
       "  <tbody>\n",
       "    <tr>\n",
       "      <th>0</th>\n",
       "      <td>5.1</td>\n",
       "      <td>3.5</td>\n",
       "      <td>1.4</td>\n",
       "      <td>0.2</td>\n",
       "    </tr>\n",
       "    <tr>\n",
       "      <th>1</th>\n",
       "      <td>4.9</td>\n",
       "      <td>3.0</td>\n",
       "      <td>1.4</td>\n",
       "      <td>0.2</td>\n",
       "    </tr>\n",
       "    <tr>\n",
       "      <th>2</th>\n",
       "      <td>4.7</td>\n",
       "      <td>3.2</td>\n",
       "      <td>1.3</td>\n",
       "      <td>0.2</td>\n",
       "    </tr>\n",
       "    <tr>\n",
       "      <th>3</th>\n",
       "      <td>4.6</td>\n",
       "      <td>3.1</td>\n",
       "      <td>1.5</td>\n",
       "      <td>0.2</td>\n",
       "    </tr>\n",
       "    <tr>\n",
       "      <th>4</th>\n",
       "      <td>5.0</td>\n",
       "      <td>3.6</td>\n",
       "      <td>1.4</td>\n",
       "      <td>0.2</td>\n",
       "    </tr>\n",
       "  </tbody>\n",
       "</table>\n",
       "</div>"
      ],
      "text/plain": [
       "   sepal length (cm)  sepal width (cm)  petal length (cm)  petal width (cm)\n",
       "0                5.1               3.5                1.4               0.2\n",
       "1                4.9               3.0                1.4               0.2\n",
       "2                4.7               3.2                1.3               0.2\n",
       "3                4.6               3.1                1.5               0.2\n",
       "4                5.0               3.6                1.4               0.2"
      ]
     },
     "execution_count": 48,
     "metadata": {},
     "output_type": "execute_result"
    }
   ],
   "source": [
    "# data, target, target_name, feature_name, DESCR, \n",
    "data = iris.data\n",
    "label = iris.target\n",
    "columns = iris.feature_names\n",
    "df = pd.DataFrame(data, columns=columns)\n",
    "df.head()"
   ]
  },
  {
   "cell_type": "code",
   "execution_count": 12,
   "metadata": {},
   "outputs": [],
   "source": [
    "X_train, X_test, y_train, y_test, = train_test_split(data, label, shuffle=True, stratify=label,\n",
    "                                                    test_size=0.2, random_state=2019)"
   ]
  },
  {
   "cell_type": "markdown",
   "metadata": {},
   "source": [
    "- 모델생성"
   ]
  },
  {
   "cell_type": "code",
   "execution_count": 13,
   "metadata": {},
   "outputs": [],
   "source": [
    "lr = LogisticRegression(verbose=1)"
   ]
  },
  {
   "cell_type": "code",
   "execution_count": 14,
   "metadata": {
    "scrolled": true
   },
   "outputs": [
    {
     "name": "stderr",
     "output_type": "stream",
     "text": [
      "[Parallel(n_jobs=1)]: Using backend SequentialBackend with 1 concurrent workers.\n",
      "[Parallel(n_jobs=1)]: Done   1 out of   1 | elapsed:    0.0s finished\n"
     ]
    },
    {
     "data": {
      "text/plain": [
       "LogisticRegression(verbose=1)"
      ]
     },
     "execution_count": 14,
     "metadata": {},
     "output_type": "execute_result"
    }
   ],
   "source": [
    "lr.fit(X_train, y_train)"
   ]
  },
  {
   "cell_type": "markdown",
   "metadata": {},
   "source": [
    "- 학습한 결과 저장"
   ]
  },
  {
   "cell_type": "code",
   "execution_count": 22,
   "metadata": {},
   "outputs": [
    {
     "data": {
      "text/plain": [
       "['model/iris_lr.pkl']"
      ]
     },
     "execution_count": 22,
     "metadata": {},
     "output_type": "execute_result"
    }
   ],
   "source": [
    "import joblib\n",
    "joblib.dump(lr,'model/iris_lr.pkl')"
   ]
  },
  {
   "cell_type": "markdown",
   "metadata": {},
   "source": [
    "- support Vector Machine"
   ]
  },
  {
   "cell_type": "code",
   "execution_count": 23,
   "metadata": {},
   "outputs": [],
   "source": [
    "# 모델 객체 생성\n",
    "svc = SVC()\n",
    "#svc.fit(X_train, y_train)\n",
    "#y_pred_svc = svc.predict(X_test)\n",
    "#accuracy_score(y_test, y_pred)"
   ]
  },
  {
   "cell_type": "code",
   "execution_count": 24,
   "metadata": {},
   "outputs": [
    {
     "data": {
      "text/plain": [
       "SVC()"
      ]
     },
     "execution_count": 24,
     "metadata": {},
     "output_type": "execute_result"
    }
   ],
   "source": [
    "# 학습\n",
    "svc.fit(X_train, y_train)"
   ]
  },
  {
   "cell_type": "code",
   "execution_count": 25,
   "metadata": {},
   "outputs": [
    {
     "data": {
      "text/plain": [
       "['model/iris_svm.pkl']"
      ]
     },
     "execution_count": 25,
     "metadata": {},
     "output_type": "execute_result"
    }
   ],
   "source": [
    "import joblib\n",
    "joblib.dump(lr,'model/iris_svm.pkl')"
   ]
  },
  {
   "cell_type": "markdown",
   "metadata": {},
   "source": [
    "### Decision Tree"
   ]
  },
  {
   "cell_type": "code",
   "execution_count": 26,
   "metadata": {},
   "outputs": [],
   "source": [
    "# 객체 모델 생성  / dtc 소문자만 가능\n",
    "dtc = DecisionTreeClassifier()"
   ]
  },
  {
   "cell_type": "code",
   "execution_count": 27,
   "metadata": {},
   "outputs": [
    {
     "data": {
      "text/plain": [
       "DecisionTreeClassifier()"
      ]
     },
     "execution_count": 27,
     "metadata": {},
     "output_type": "execute_result"
    }
   ],
   "source": [
    "# 학습\n",
    "dtc.fit(X_train, y_train)"
   ]
  },
  {
   "cell_type": "code",
   "execution_count": 28,
   "metadata": {},
   "outputs": [
    {
     "data": {
      "text/plain": [
       "['model/iris_dt.pkl']"
      ]
     },
     "execution_count": 28,
     "metadata": {},
     "output_type": "execute_result"
    }
   ],
   "source": [
    "import joblib\n",
    "joblib.dump(lr,'model/iris_dt.pkl')"
   ]
  },
  {
   "cell_type": "markdown",
   "metadata": {},
   "source": [
    "### 저장된 모델 정확도 산출"
   ]
  },
  {
   "cell_type": "code",
   "execution_count": 29,
   "metadata": {},
   "outputs": [],
   "source": [
    "model_lr = joblib.load('model/iris_lr.pkl')\n",
    "model_svm = joblib.load('model/iris_svm.pkl')\n",
    "model_dt = joblib.load('model/iris_dt.pkl')"
   ]
  },
  {
   "cell_type": "code",
   "execution_count": 34,
   "metadata": {},
   "outputs": [],
   "source": [
    "y_pred_lr = model_lr.predict(X_test)\n",
    "y_pred_svm = model_svm.predict(X_test)\n",
    "y_pred_dt = model_dt.predict(X_test)"
   ]
  },
  {
   "cell_type": "code",
   "execution_count": 36,
   "metadata": {},
   "outputs": [
    {
     "name": "stdout",
     "output_type": "stream",
     "text": [
      "0.9666666666666667 0.9666666666666667 0.9666666666666667\n"
     ]
    }
   ],
   "source": [
    "acc_lr = accuracy_score(y_test, y_pred_lr)\n",
    "acc_svm = accuracy_score(y_test, y_pred_svm)\n",
    "acc_dt = accuracy_score(y_test, y_pred_dt)\n",
    "print(acc_lr, acc_svm, acc_dt)"
   ]
  },
  {
   "cell_type": "markdown",
   "metadata": {},
   "source": [
    "### 한개의 테스트 값 예측"
   ]
  },
  {
   "cell_type": "code",
   "execution_count": 37,
   "metadata": {},
   "outputs": [
    {
     "data": {
      "text/html": [
       "<div>\n",
       "<style scoped>\n",
       "    .dataframe tbody tr th:only-of-type {\n",
       "        vertical-align: middle;\n",
       "    }\n",
       "\n",
       "    .dataframe tbody tr th {\n",
       "        vertical-align: top;\n",
       "    }\n",
       "\n",
       "    .dataframe thead th {\n",
       "        text-align: right;\n",
       "    }\n",
       "</style>\n",
       "<table border=\"1\" class=\"dataframe\">\n",
       "  <thead>\n",
       "    <tr style=\"text-align: right;\">\n",
       "      <th></th>\n",
       "      <th>sepal length (cm)</th>\n",
       "      <th>sepal width (cm)</th>\n",
       "      <th>petal length (cm)</th>\n",
       "      <th>petal width (cm)</th>\n",
       "    </tr>\n",
       "  </thead>\n",
       "  <tbody>\n",
       "    <tr>\n",
       "      <th>145</th>\n",
       "      <td>6.7</td>\n",
       "      <td>3.0</td>\n",
       "      <td>5.2</td>\n",
       "      <td>2.3</td>\n",
       "    </tr>\n",
       "    <tr>\n",
       "      <th>146</th>\n",
       "      <td>6.3</td>\n",
       "      <td>2.5</td>\n",
       "      <td>5.0</td>\n",
       "      <td>1.9</td>\n",
       "    </tr>\n",
       "    <tr>\n",
       "      <th>147</th>\n",
       "      <td>6.5</td>\n",
       "      <td>3.0</td>\n",
       "      <td>5.2</td>\n",
       "      <td>2.0</td>\n",
       "    </tr>\n",
       "    <tr>\n",
       "      <th>148</th>\n",
       "      <td>6.2</td>\n",
       "      <td>3.4</td>\n",
       "      <td>5.4</td>\n",
       "      <td>2.3</td>\n",
       "    </tr>\n",
       "    <tr>\n",
       "      <th>149</th>\n",
       "      <td>5.9</td>\n",
       "      <td>3.0</td>\n",
       "      <td>5.1</td>\n",
       "      <td>1.8</td>\n",
       "    </tr>\n",
       "  </tbody>\n",
       "</table>\n",
       "</div>"
      ],
      "text/plain": [
       "     sepal length (cm)  sepal width (cm)  petal length (cm)  petal width (cm)\n",
       "145                6.7               3.0                5.2               2.3\n",
       "146                6.3               2.5                5.0               1.9\n",
       "147                6.5               3.0                5.2               2.0\n",
       "148                6.2               3.4                5.4               2.3\n",
       "149                5.9               3.0                5.1               1.8"
      ]
     },
     "execution_count": 37,
     "metadata": {},
     "output_type": "execute_result"
    }
   ],
   "source": [
    "df.tail()"
   ]
  },
  {
   "cell_type": "code",
   "execution_count": 40,
   "metadata": {},
   "outputs": [],
   "source": [
    "test_data = np.array([6.7, 3.0, 5.2 , 2.3]).reshape(1,4)   # 2차원을 1차원으로 reshape"
   ]
  },
  {
   "cell_type": "code",
   "execution_count": 43,
   "metadata": {},
   "outputs": [],
   "source": [
    "index_lr = model_lr.predict(test_data)[0]   # [0]으로 숫자만 출력\n",
    "index_svm = model_lr.predict(test_data)[0]\n",
    "index_dt = model_lr.predict(test_data)[0]"
   ]
  },
  {
   "cell_type": "code",
   "execution_count": 44,
   "metadata": {},
   "outputs": [
    {
     "name": "stdout",
     "output_type": "stream",
     "text": [
      "Virginica Virginica Virginica\n"
     ]
    }
   ],
   "source": [
    "sp_names = ['Setosa', 'Versicolor', 'Virginica']\n",
    "print(sp_names[index_lr], sp_names[index_svm], sp_names[index_dt])"
   ]
  },
  {
   "cell_type": "markdown",
   "metadata": {},
   "source": [
    "## Deep learnin model"
   ]
  },
  {
   "cell_type": "code",
   "execution_count": 72,
   "metadata": {},
   "outputs": [
    {
     "name": "stdout",
     "output_type": "stream",
     "text": [
      "Model: \"sequential_2\"\n",
      "_________________________________________________________________\n",
      "Layer (type)                 Output Shape              Param #   \n",
      "=================================================================\n",
      "dense_7 (Dense)              (None, 12)                60        \n",
      "_________________________________________________________________\n",
      "dense_8 (Dense)              (None, 8)                 104       \n",
      "_________________________________________________________________\n",
      "dense_9 (Dense)              (None, 3)                 27        \n",
      "=================================================================\n",
      "Total params: 191\n",
      "Trainable params: 191\n",
      "Non-trainable params: 0\n",
      "_________________________________________________________________\n"
     ]
    }
   ],
   "source": [
    "# 딥러닝 모델 설정\n",
    "from tensorflow.keras.models import Sequential\n",
    "from tensorflow.keras.layers import Dense\n",
    "from tensorflow.keras.callbacks import ModelCheckpoint\n",
    "from tensorflow import keras\n",
    "from tensorflow.keras.layers import Dense\n",
    "\n",
    "model = Sequential([\n",
    "    Dense(12, input_shape=(4, ), activation='relu'),\n",
    "    Dense(8, activation='relu'),\n",
    "    Dense(3, activation='softmax')\n",
    "]) \n",
    "model.summary()"
   ]
  },
  {
   "cell_type": "code",
   "execution_count": 73,
   "metadata": {},
   "outputs": [],
   "source": [
    "# 모델 컴파일 \n",
    "model.compile(loss='categorical_crossentropy',\n",
    "              optimizer='adam',\n",
    "              metrics=['accuracy'])"
   ]
  },
  {
   "cell_type": "code",
   "execution_count": 74,
   "metadata": {},
   "outputs": [],
   "source": [
    "Y_eoncoded = keras.utils.to_categorical(y_train)"
   ]
  },
  {
   "cell_type": "code",
   "execution_count": 75,
   "metadata": {},
   "outputs": [],
   "source": [
    "cp = ModelCheckpoint('model/iris_deep.h5', verbose=1, save_best_only=True)"
   ]
  },
  {
   "cell_type": "code",
   "execution_count": 76,
   "metadata": {},
   "outputs": [
    {
     "name": "stdout",
     "output_type": "stream",
     "text": [
      "\n",
      "Epoch 00001: val_loss improved from inf to 1.96074, saving model to model/iris_deep.h5\n",
      "\n",
      "Epoch 00002: val_loss improved from 1.96074 to 1.80079, saving model to model/iris_deep.h5\n",
      "\n",
      "Epoch 00003: val_loss improved from 1.80079 to 1.65304, saving model to model/iris_deep.h5\n",
      "\n",
      "Epoch 00004: val_loss improved from 1.65304 to 1.52567, saving model to model/iris_deep.h5\n",
      "\n",
      "Epoch 00005: val_loss improved from 1.52567 to 1.41922, saving model to model/iris_deep.h5\n",
      "\n",
      "Epoch 00006: val_loss improved from 1.41922 to 1.32113, saving model to model/iris_deep.h5\n",
      "\n",
      "Epoch 00007: val_loss improved from 1.32113 to 1.24388, saving model to model/iris_deep.h5\n",
      "\n",
      "Epoch 00008: val_loss improved from 1.24388 to 1.18229, saving model to model/iris_deep.h5\n",
      "\n",
      "Epoch 00009: val_loss improved from 1.18229 to 1.13285, saving model to model/iris_deep.h5\n",
      "\n",
      "Epoch 00010: val_loss improved from 1.13285 to 1.09604, saving model to model/iris_deep.h5\n",
      "\n",
      "Epoch 00011: val_loss improved from 1.09604 to 1.06667, saving model to model/iris_deep.h5\n",
      "\n",
      "Epoch 00012: val_loss improved from 1.06667 to 1.04534, saving model to model/iris_deep.h5\n",
      "\n",
      "Epoch 00013: val_loss improved from 1.04534 to 1.02970, saving model to model/iris_deep.h5\n",
      "\n",
      "Epoch 00014: val_loss improved from 1.02970 to 1.01445, saving model to model/iris_deep.h5\n",
      "\n",
      "Epoch 00015: val_loss improved from 1.01445 to 1.00230, saving model to model/iris_deep.h5\n",
      "\n",
      "Epoch 00016: val_loss improved from 1.00230 to 0.99089, saving model to model/iris_deep.h5\n",
      "\n",
      "Epoch 00017: val_loss improved from 0.99089 to 0.98060, saving model to model/iris_deep.h5\n",
      "\n",
      "Epoch 00018: val_loss improved from 0.98060 to 0.97209, saving model to model/iris_deep.h5\n",
      "\n",
      "Epoch 00019: val_loss improved from 0.97209 to 0.96355, saving model to model/iris_deep.h5\n",
      "\n",
      "Epoch 00020: val_loss improved from 0.96355 to 0.95558, saving model to model/iris_deep.h5\n",
      "\n",
      "Epoch 00021: val_loss improved from 0.95558 to 0.94589, saving model to model/iris_deep.h5\n",
      "\n",
      "Epoch 00022: val_loss improved from 0.94589 to 0.93852, saving model to model/iris_deep.h5\n",
      "\n",
      "Epoch 00023: val_loss improved from 0.93852 to 0.93235, saving model to model/iris_deep.h5\n",
      "\n",
      "Epoch 00024: val_loss improved from 0.93235 to 0.92347, saving model to model/iris_deep.h5\n",
      "\n",
      "Epoch 00025: val_loss improved from 0.92347 to 0.91323, saving model to model/iris_deep.h5\n",
      "\n",
      "Epoch 00026: val_loss improved from 0.91323 to 0.90313, saving model to model/iris_deep.h5\n",
      "\n",
      "Epoch 00027: val_loss improved from 0.90313 to 0.89198, saving model to model/iris_deep.h5\n",
      "\n",
      "Epoch 00028: val_loss improved from 0.89198 to 0.88275, saving model to model/iris_deep.h5\n",
      "\n",
      "Epoch 00029: val_loss improved from 0.88275 to 0.87078, saving model to model/iris_deep.h5\n",
      "\n",
      "Epoch 00030: val_loss improved from 0.87078 to 0.86136, saving model to model/iris_deep.h5\n",
      "\n",
      "Epoch 00031: val_loss improved from 0.86136 to 0.85250, saving model to model/iris_deep.h5\n",
      "\n",
      "Epoch 00032: val_loss improved from 0.85250 to 0.84622, saving model to model/iris_deep.h5\n",
      "\n",
      "Epoch 00033: val_loss improved from 0.84622 to 0.83876, saving model to model/iris_deep.h5\n",
      "\n",
      "Epoch 00034: val_loss improved from 0.83876 to 0.82720, saving model to model/iris_deep.h5\n",
      "\n",
      "Epoch 00035: val_loss improved from 0.82720 to 0.81783, saving model to model/iris_deep.h5\n",
      "\n",
      "Epoch 00036: val_loss improved from 0.81783 to 0.81044, saving model to model/iris_deep.h5\n",
      "\n",
      "Epoch 00037: val_loss improved from 0.81044 to 0.80269, saving model to model/iris_deep.h5\n",
      "\n",
      "Epoch 00038: val_loss improved from 0.80269 to 0.79550, saving model to model/iris_deep.h5\n",
      "\n",
      "Epoch 00039: val_loss improved from 0.79550 to 0.78658, saving model to model/iris_deep.h5\n",
      "\n",
      "Epoch 00040: val_loss improved from 0.78658 to 0.77882, saving model to model/iris_deep.h5\n",
      "\n",
      "Epoch 00041: val_loss improved from 0.77882 to 0.77114, saving model to model/iris_deep.h5\n",
      "\n",
      "Epoch 00042: val_loss improved from 0.77114 to 0.76374, saving model to model/iris_deep.h5\n",
      "\n",
      "Epoch 00043: val_loss improved from 0.76374 to 0.75515, saving model to model/iris_deep.h5\n",
      "\n",
      "Epoch 00044: val_loss improved from 0.75515 to 0.74664, saving model to model/iris_deep.h5\n",
      "\n",
      "Epoch 00045: val_loss improved from 0.74664 to 0.73893, saving model to model/iris_deep.h5\n",
      "\n",
      "Epoch 00046: val_loss improved from 0.73893 to 0.73120, saving model to model/iris_deep.h5\n",
      "\n",
      "Epoch 00047: val_loss improved from 0.73120 to 0.72346, saving model to model/iris_deep.h5\n",
      "\n",
      "Epoch 00048: val_loss improved from 0.72346 to 0.71526, saving model to model/iris_deep.h5\n",
      "\n",
      "Epoch 00049: val_loss improved from 0.71526 to 0.70722, saving model to model/iris_deep.h5\n",
      "\n",
      "Epoch 00050: val_loss improved from 0.70722 to 0.70024, saving model to model/iris_deep.h5\n",
      "\n",
      "Epoch 00051: val_loss improved from 0.70024 to 0.69208, saving model to model/iris_deep.h5\n",
      "\n",
      "Epoch 00052: val_loss improved from 0.69208 to 0.68372, saving model to model/iris_deep.h5\n",
      "\n",
      "Epoch 00053: val_loss improved from 0.68372 to 0.67584, saving model to model/iris_deep.h5\n",
      "\n",
      "Epoch 00054: val_loss improved from 0.67584 to 0.66776, saving model to model/iris_deep.h5\n",
      "\n",
      "Epoch 00055: val_loss improved from 0.66776 to 0.65931, saving model to model/iris_deep.h5\n",
      "\n",
      "Epoch 00056: val_loss improved from 0.65931 to 0.65066, saving model to model/iris_deep.h5\n",
      "\n",
      "Epoch 00057: val_loss improved from 0.65066 to 0.64166, saving model to model/iris_deep.h5\n",
      "\n",
      "Epoch 00058: val_loss improved from 0.64166 to 0.63310, saving model to model/iris_deep.h5\n",
      "\n",
      "Epoch 00059: val_loss improved from 0.63310 to 0.62455, saving model to model/iris_deep.h5\n",
      "\n",
      "Epoch 00060: val_loss improved from 0.62455 to 0.61583, saving model to model/iris_deep.h5\n",
      "\n",
      "Epoch 00061: val_loss improved from 0.61583 to 0.60808, saving model to model/iris_deep.h5\n",
      "\n",
      "Epoch 00062: val_loss improved from 0.60808 to 0.60442, saving model to model/iris_deep.h5\n",
      "\n",
      "Epoch 00063: val_loss improved from 0.60442 to 0.59756, saving model to model/iris_deep.h5\n",
      "\n",
      "Epoch 00064: val_loss improved from 0.59756 to 0.58721, saving model to model/iris_deep.h5\n",
      "\n",
      "Epoch 00065: val_loss improved from 0.58721 to 0.58034, saving model to model/iris_deep.h5\n",
      "\n",
      "Epoch 00066: val_loss improved from 0.58034 to 0.57209, saving model to model/iris_deep.h5\n",
      "\n",
      "Epoch 00067: val_loss improved from 0.57209 to 0.56458, saving model to model/iris_deep.h5\n",
      "\n",
      "Epoch 00068: val_loss improved from 0.56458 to 0.55801, saving model to model/iris_deep.h5\n",
      "\n",
      "Epoch 00069: val_loss improved from 0.55801 to 0.55085, saving model to model/iris_deep.h5\n",
      "\n",
      "Epoch 00070: val_loss improved from 0.55085 to 0.54710, saving model to model/iris_deep.h5\n",
      "\n",
      "Epoch 00071: val_loss improved from 0.54710 to 0.54125, saving model to model/iris_deep.h5\n",
      "\n",
      "Epoch 00072: val_loss improved from 0.54125 to 0.53328, saving model to model/iris_deep.h5\n",
      "\n",
      "Epoch 00073: val_loss improved from 0.53328 to 0.52300, saving model to model/iris_deep.h5\n",
      "\n",
      "Epoch 00074: val_loss improved from 0.52300 to 0.51484, saving model to model/iris_deep.h5\n",
      "\n",
      "Epoch 00075: val_loss improved from 0.51484 to 0.50789, saving model to model/iris_deep.h5\n",
      "\n",
      "Epoch 00076: val_loss improved from 0.50789 to 0.50190, saving model to model/iris_deep.h5\n",
      "\n",
      "Epoch 00077: val_loss improved from 0.50190 to 0.49774, saving model to model/iris_deep.h5\n",
      "\n",
      "Epoch 00078: val_loss improved from 0.49774 to 0.49757, saving model to model/iris_deep.h5\n",
      "\n",
      "Epoch 00079: val_loss improved from 0.49757 to 0.49195, saving model to model/iris_deep.h5\n",
      "\n",
      "Epoch 00080: val_loss improved from 0.49195 to 0.48246, saving model to model/iris_deep.h5\n",
      "\n",
      "Epoch 00081: val_loss improved from 0.48246 to 0.47516, saving model to model/iris_deep.h5\n",
      "\n",
      "Epoch 00082: val_loss improved from 0.47516 to 0.47056, saving model to model/iris_deep.h5\n",
      "\n",
      "Epoch 00083: val_loss improved from 0.47056 to 0.46531, saving model to model/iris_deep.h5\n",
      "\n",
      "Epoch 00084: val_loss improved from 0.46531 to 0.45887, saving model to model/iris_deep.h5\n",
      "\n",
      "Epoch 00085: val_loss improved from 0.45887 to 0.45123, saving model to model/iris_deep.h5\n",
      "\n",
      "Epoch 00086: val_loss improved from 0.45123 to 0.44427, saving model to model/iris_deep.h5\n",
      "\n",
      "Epoch 00087: val_loss improved from 0.44427 to 0.44068, saving model to model/iris_deep.h5\n",
      "\n",
      "Epoch 00088: val_loss improved from 0.44068 to 0.43597, saving model to model/iris_deep.h5\n",
      "\n",
      "Epoch 00089: val_loss improved from 0.43597 to 0.42965, saving model to model/iris_deep.h5\n",
      "\n",
      "Epoch 00090: val_loss improved from 0.42965 to 0.42473, saving model to model/iris_deep.h5\n",
      "\n",
      "Epoch 00091: val_loss improved from 0.42473 to 0.42073, saving model to model/iris_deep.h5\n",
      "\n",
      "Epoch 00092: val_loss improved from 0.42073 to 0.41613, saving model to model/iris_deep.h5\n",
      "\n",
      "Epoch 00093: val_loss improved from 0.41613 to 0.41100, saving model to model/iris_deep.h5\n",
      "\n",
      "Epoch 00094: val_loss improved from 0.41100 to 0.40832, saving model to model/iris_deep.h5\n",
      "\n",
      "Epoch 00095: val_loss improved from 0.40832 to 0.40586, saving model to model/iris_deep.h5\n",
      "\n",
      "Epoch 00096: val_loss improved from 0.40586 to 0.39961, saving model to model/iris_deep.h5\n",
      "\n"
     ]
    },
    {
     "name": "stdout",
     "output_type": "stream",
     "text": [
      "Epoch 00097: val_loss improved from 0.39961 to 0.39293, saving model to model/iris_deep.h5\n",
      "\n",
      "Epoch 00098: val_loss improved from 0.39293 to 0.38977, saving model to model/iris_deep.h5\n",
      "\n",
      "Epoch 00099: val_loss improved from 0.38977 to 0.38877, saving model to model/iris_deep.h5\n",
      "\n",
      "Epoch 00100: val_loss improved from 0.38877 to 0.38425, saving model to model/iris_deep.h5\n"
     ]
    },
    {
     "data": {
      "text/plain": [
       "<tensorflow.python.keras.callbacks.History at 0x217699094c8>"
      ]
     },
     "execution_count": 76,
     "metadata": {},
     "output_type": "execute_result"
    }
   ],
   "source": [
    "model.fit(X_train, Y_eoncoded, validation_split=0.2, epochs=100, batch_size=30, \n",
    "          verbose=0, callbacks=[cp])"
   ]
  },
  {
   "cell_type": "code",
   "execution_count": 79,
   "metadata": {},
   "outputs": [],
   "source": [
    "from tensorflow.keras.models import load_model\n",
    "model_deep = load_model('model/iris_deep.h5')"
   ]
  },
  {
   "cell_type": "code",
   "execution_count": 80,
   "metadata": {},
   "outputs": [
    {
     "data": {
      "text/plain": [
       "array([0.02615664, 0.4184128 , 0.55543053], dtype=float32)"
      ]
     },
     "execution_count": 80,
     "metadata": {},
     "output_type": "execute_result"
    }
   ],
   "source": [
    "model_deep.predict(test_data)[0]"
   ]
  },
  {
   "cell_type": "code",
   "execution_count": 82,
   "metadata": {},
   "outputs": [
    {
     "data": {
      "text/plain": [
       "2"
      ]
     },
     "execution_count": 82,
     "metadata": {},
     "output_type": "execute_result"
    }
   ],
   "source": [
    "np.argmax(model_deep.predict(test_data)[0])"
   ]
  },
  {
   "cell_type": "code",
   "execution_count": 87,
   "metadata": {},
   "outputs": [],
   "source": [
    "#iris_deep = model_deep.predict_classes(test_data)[0]"
   ]
  },
  {
   "cell_type": "code",
   "execution_count": 86,
   "metadata": {},
   "outputs": [
    {
     "name": "stdout",
     "output_type": "stream",
     "text": [
      "Virginica\n"
     ]
    }
   ],
   "source": [
    "#print(sp_names[iris_deep])"
   ]
  },
  {
   "cell_type": "code",
   "execution_count": null,
   "metadata": {},
   "outputs": [],
   "source": []
  }
 ],
 "metadata": {
  "kernelspec": {
   "display_name": "Python 3",
   "language": "python",
   "name": "python3"
  },
  "language_info": {
   "codemirror_mode": {
    "name": "ipython",
    "version": 3
   },
   "file_extension": ".py",
   "mimetype": "text/x-python",
   "name": "python",
   "nbconvert_exporter": "python",
   "pygments_lexer": "ipython3",
   "version": "3.7.7"
  }
 },
 "nbformat": 4,
 "nbformat_minor": 4
}
