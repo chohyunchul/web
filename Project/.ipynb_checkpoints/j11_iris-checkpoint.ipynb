{
 "cells": [
  {
   "cell_type": "markdown",
   "metadata": {},
   "source": [
    "# iris 분류"
   ]
  },
  {
   "cell_type": "code",
   "execution_count": 31,
   "metadata": {},
   "outputs": [],
   "source": [
    "import numpy as np\n",
    "import pandas as pd\n",
    "import warnings\n",
    "warnings.filterwarnings('ignore')"
   ]
  },
  {
   "cell_type": "code",
   "execution_count": 32,
   "metadata": {},
   "outputs": [],
   "source": [
    "from sklearn.datasets import load_iris\n",
    "iris = load_iris()"
   ]
  },
  {
   "cell_type": "code",
   "execution_count": 33,
   "metadata": {},
   "outputs": [
    {
     "data": {
      "text/html": [
       "<div>\n",
       "<style scoped>\n",
       "    .dataframe tbody tr th:only-of-type {\n",
       "        vertical-align: middle;\n",
       "    }\n",
       "\n",
       "    .dataframe tbody tr th {\n",
       "        vertical-align: top;\n",
       "    }\n",
       "\n",
       "    .dataframe thead th {\n",
       "        text-align: right;\n",
       "    }\n",
       "</style>\n",
       "<table border=\"1\" class=\"dataframe\">\n",
       "  <thead>\n",
       "    <tr style=\"text-align: right;\">\n",
       "      <th></th>\n",
       "      <th>sepal length (cm)</th>\n",
       "      <th>sepal width (cm)</th>\n",
       "      <th>petal length (cm)</th>\n",
       "      <th>petal width (cm)</th>\n",
       "    </tr>\n",
       "  </thead>\n",
       "  <tbody>\n",
       "    <tr>\n",
       "      <th>0</th>\n",
       "      <td>5.1</td>\n",
       "      <td>3.5</td>\n",
       "      <td>1.4</td>\n",
       "      <td>0.2</td>\n",
       "    </tr>\n",
       "    <tr>\n",
       "      <th>1</th>\n",
       "      <td>4.9</td>\n",
       "      <td>3.0</td>\n",
       "      <td>1.4</td>\n",
       "      <td>0.2</td>\n",
       "    </tr>\n",
       "    <tr>\n",
       "      <th>2</th>\n",
       "      <td>4.7</td>\n",
       "      <td>3.2</td>\n",
       "      <td>1.3</td>\n",
       "      <td>0.2</td>\n",
       "    </tr>\n",
       "    <tr>\n",
       "      <th>3</th>\n",
       "      <td>4.6</td>\n",
       "      <td>3.1</td>\n",
       "      <td>1.5</td>\n",
       "      <td>0.2</td>\n",
       "    </tr>\n",
       "    <tr>\n",
       "      <th>4</th>\n",
       "      <td>5.0</td>\n",
       "      <td>3.6</td>\n",
       "      <td>1.4</td>\n",
       "      <td>0.2</td>\n",
       "    </tr>\n",
       "  </tbody>\n",
       "</table>\n",
       "</div>"
      ],
      "text/plain": [
       "   sepal length (cm)  sepal width (cm)  petal length (cm)  petal width (cm)\n",
       "0                5.1               3.5                1.4               0.2\n",
       "1                4.9               3.0                1.4               0.2\n",
       "2                4.7               3.2                1.3               0.2\n",
       "3                4.6               3.1                1.5               0.2\n",
       "4                5.0               3.6                1.4               0.2"
      ]
     },
     "execution_count": 33,
     "metadata": {},
     "output_type": "execute_result"
    }
   ],
   "source": [
    "# data, target, target_names, feature_names, DESCR\n",
    "data = iris.data\n",
    "label = iris.target\n",
    "columns = iris.feature_names\n",
    "df = pd.DataFrame(data, columns=columns)\n",
    "df.head()"
   ]
  },
  {
   "cell_type": "code",
   "execution_count": 34,
   "metadata": {},
   "outputs": [],
   "source": [
    "from sklearn.model_selection import train_test_split\n",
    "x_train, x_test, y_train, y_test = \\\n",
    "    train_test_split(data, label, test_size=0.2, \n",
    "                     shuffle=True, stratify=label, random_state=2019)"
   ]
  },
  {
   "cell_type": "markdown",
   "metadata": {},
   "source": [
    "- 모델생성"
   ]
  },
  {
   "cell_type": "code",
   "execution_count": 35,
   "metadata": {},
   "outputs": [],
   "source": [
    "from sklearn.linear_model import LogisticRegression\n",
    "lr = LogisticRegression(verbose=1)"
   ]
  },
  {
   "cell_type": "code",
   "execution_count": 36,
   "metadata": {
    "scrolled": true
   },
   "outputs": [
    {
     "name": "stderr",
     "output_type": "stream",
     "text": [
      "[Parallel(n_jobs=1)]: Using backend SequentialBackend with 1 concurrent workers.\n",
      "[Parallel(n_jobs=1)]: Done   1 out of   1 | elapsed:    0.0s finished\n"
     ]
    },
    {
     "data": {
      "text/plain": [
       "LogisticRegression(verbose=1)"
      ]
     },
     "execution_count": 36,
     "metadata": {},
     "output_type": "execute_result"
    }
   ],
   "source": [
    "lr.fit(X_train, y_train)"
   ]
  },
  {
   "cell_type": "markdown",
   "metadata": {},
   "source": [
    "- 학습한 결과 저장"
   ]
  },
  {
   "cell_type": "code",
   "execution_count": 37,
   "metadata": {},
   "outputs": [
    {
     "data": {
      "text/plain": [
       "['model/iris_lr.pkl']"
      ]
     },
     "execution_count": 37,
     "metadata": {},
     "output_type": "execute_result"
    }
   ],
   "source": [
    "import joblib\n",
    "joblib.dump(lr,'model/iris_lr.pkl')"
   ]
  },
  {
   "cell_type": "markdown",
   "metadata": {},
   "source": [
    "- support Vector Machine"
   ]
  },
  {
   "cell_type": "code",
   "execution_count": 38,
   "metadata": {},
   "outputs": [],
   "source": [
    "# 모델 객체 생성\n",
    "from sklearn.svm import SVC\n",
    "svc = SVC()\n",
    "#svc.fit(X_train, y_train)\n",
    "#y_pred_svc = svc.predict(X_test)\n",
    "#accuracy_score(y_test, y_pred)"
   ]
  },
  {
   "cell_type": "code",
   "execution_count": 39,
   "metadata": {},
   "outputs": [
    {
     "data": {
      "text/plain": [
       "SVC()"
      ]
     },
     "execution_count": 39,
     "metadata": {},
     "output_type": "execute_result"
    }
   ],
   "source": [
    "# 학습\n",
    "svc.fit(X_train, y_train)"
   ]
  },
  {
   "cell_type": "code",
   "execution_count": 40,
   "metadata": {},
   "outputs": [
    {
     "data": {
      "text/plain": [
       "['model/iris_svm.pkl']"
      ]
     },
     "execution_count": 40,
     "metadata": {},
     "output_type": "execute_result"
    }
   ],
   "source": [
    "import joblib\n",
    "joblib.dump(lr,'model/iris_svm.pkl')"
   ]
  },
  {
   "cell_type": "markdown",
   "metadata": {},
   "source": [
    "### Decision Tree"
   ]
  },
  {
   "cell_type": "code",
   "execution_count": 41,
   "metadata": {},
   "outputs": [],
   "source": [
    "# 객체 모델 생성  / dtc 소문자만 가능\n",
    "dtc = DecisionTreeClassifier()"
   ]
  },
  {
   "cell_type": "code",
   "execution_count": 42,
   "metadata": {},
   "outputs": [
    {
     "data": {
      "text/plain": [
       "DecisionTreeClassifier()"
      ]
     },
     "execution_count": 42,
     "metadata": {},
     "output_type": "execute_result"
    }
   ],
   "source": [
    "# 학습\n",
    "dtc.fit(X_train, y_train)"
   ]
  },
  {
   "cell_type": "code",
   "execution_count": 43,
   "metadata": {},
   "outputs": [
    {
     "data": {
      "text/plain": [
       "['model/iris_dt.pkl']"
      ]
     },
     "execution_count": 43,
     "metadata": {},
     "output_type": "execute_result"
    }
   ],
   "source": [
    "import joblib\n",
    "joblib.dump(lr,'model/iris_dt.pkl')"
   ]
  },
  {
   "cell_type": "markdown",
   "metadata": {},
   "source": [
    "### 저장된 모델 정확도 산출"
   ]
  },
  {
   "cell_type": "code",
   "execution_count": 45,
   "metadata": {},
   "outputs": [],
   "source": [
    "model_lr = joblib.load('model/iris_lr.pkl')\n",
    "model_svm = joblib.load('model/iris_svm.pkl')\n",
    "model_dt = joblib.load('model/iris_dt.pkl')"
   ]
  },
  {
   "cell_type": "code",
   "execution_count": 47,
   "metadata": {},
   "outputs": [],
   "source": [
    "y_pred_lr = model_lr.predict(x_test)\n",
    "y_pred_svm = model_svm.predict(x_test)\n",
    "y_pred_dt = model_dt.predict(x_test)"
   ]
  },
  {
   "cell_type": "code",
   "execution_count": 48,
   "metadata": {},
   "outputs": [
    {
     "name": "stdout",
     "output_type": "stream",
     "text": [
      "0.9666666666666667 0.9666666666666667 0.9666666666666667\n"
     ]
    }
   ],
   "source": [
    "from sklearn.metrics import accuracy_score\n",
    "acc_lr = accuracy_score(y_test, y_pred_lr)\n",
    "acc_svm = accuracy_score(y_test, y_pred_svm)\n",
    "acc_dt = accuracy_score(y_test, y_pred_dt)\n",
    "print(acc_lr, acc_svm, acc_dt)"
   ]
  },
  {
   "cell_type": "markdown",
   "metadata": {},
   "source": [
    "### 한개의 테스트 값 예측"
   ]
  },
  {
   "cell_type": "code",
   "execution_count": 49,
   "metadata": {},
   "outputs": [
    {
     "data": {
      "text/html": [
       "<div>\n",
       "<style scoped>\n",
       "    .dataframe tbody tr th:only-of-type {\n",
       "        vertical-align: middle;\n",
       "    }\n",
       "\n",
       "    .dataframe tbody tr th {\n",
       "        vertical-align: top;\n",
       "    }\n",
       "\n",
       "    .dataframe thead th {\n",
       "        text-align: right;\n",
       "    }\n",
       "</style>\n",
       "<table border=\"1\" class=\"dataframe\">\n",
       "  <thead>\n",
       "    <tr style=\"text-align: right;\">\n",
       "      <th></th>\n",
       "      <th>sepal length (cm)</th>\n",
       "      <th>sepal width (cm)</th>\n",
       "      <th>petal length (cm)</th>\n",
       "      <th>petal width (cm)</th>\n",
       "    </tr>\n",
       "  </thead>\n",
       "  <tbody>\n",
       "    <tr>\n",
       "      <th>145</th>\n",
       "      <td>6.7</td>\n",
       "      <td>3.0</td>\n",
       "      <td>5.2</td>\n",
       "      <td>2.3</td>\n",
       "    </tr>\n",
       "    <tr>\n",
       "      <th>146</th>\n",
       "      <td>6.3</td>\n",
       "      <td>2.5</td>\n",
       "      <td>5.0</td>\n",
       "      <td>1.9</td>\n",
       "    </tr>\n",
       "    <tr>\n",
       "      <th>147</th>\n",
       "      <td>6.5</td>\n",
       "      <td>3.0</td>\n",
       "      <td>5.2</td>\n",
       "      <td>2.0</td>\n",
       "    </tr>\n",
       "    <tr>\n",
       "      <th>148</th>\n",
       "      <td>6.2</td>\n",
       "      <td>3.4</td>\n",
       "      <td>5.4</td>\n",
       "      <td>2.3</td>\n",
       "    </tr>\n",
       "    <tr>\n",
       "      <th>149</th>\n",
       "      <td>5.9</td>\n",
       "      <td>3.0</td>\n",
       "      <td>5.1</td>\n",
       "      <td>1.8</td>\n",
       "    </tr>\n",
       "  </tbody>\n",
       "</table>\n",
       "</div>"
      ],
      "text/plain": [
       "     sepal length (cm)  sepal width (cm)  petal length (cm)  petal width (cm)\n",
       "145                6.7               3.0                5.2               2.3\n",
       "146                6.3               2.5                5.0               1.9\n",
       "147                6.5               3.0                5.2               2.0\n",
       "148                6.2               3.4                5.4               2.3\n",
       "149                5.9               3.0                5.1               1.8"
      ]
     },
     "execution_count": 49,
     "metadata": {},
     "output_type": "execute_result"
    }
   ],
   "source": [
    "df.tail()"
   ]
  },
  {
   "cell_type": "code",
   "execution_count": 50,
   "metadata": {},
   "outputs": [],
   "source": [
    "test_data = np.array([6.7, 3.0, 5.2 , 2.3]).reshape(1,4)   # 2차원을 1차원으로 reshape"
   ]
  },
  {
   "cell_type": "code",
   "execution_count": 51,
   "metadata": {},
   "outputs": [],
   "source": [
    "index_lr = model_lr.predict(test_data)[0]\n",
    "index_svm = model_svm.predict(test_data)[0]\n",
    "index_dt = model_dt.predict(test_data)[0]"
   ]
  },
  {
   "cell_type": "code",
   "execution_count": 52,
   "metadata": {},
   "outputs": [
    {
     "name": "stdout",
     "output_type": "stream",
     "text": [
      "Virginica Virginica Virginica\n"
     ]
    }
   ],
   "source": [
    "sp_names = ['Setosa', 'Versicolor', 'Virginica']\n",
    "print(sp_names[index_lr], sp_names[index_svm], sp_names[index_dt])"
   ]
  },
  {
   "cell_type": "markdown",
   "metadata": {},
   "source": [
    "## Deep learnin model"
   ]
  },
  {
   "cell_type": "code",
   "execution_count": 53,
   "metadata": {},
   "outputs": [
    {
     "name": "stdout",
     "output_type": "stream",
     "text": [
      "Model: \"sequential_1\"\n",
      "_________________________________________________________________\n",
      "Layer (type)                 Output Shape              Param #   \n",
      "=================================================================\n",
      "dense_1 (Dense)              (None, 12)                60        \n",
      "_________________________________________________________________\n",
      "dense_2 (Dense)              (None, 8)                 104       \n",
      "_________________________________________________________________\n",
      "dense_3 (Dense)              (None, 3)                 27        \n",
      "=================================================================\n",
      "Total params: 191\n",
      "Trainable params: 191\n",
      "Non-trainable params: 0\n",
      "_________________________________________________________________\n"
     ]
    },
    {
     "name": "stderr",
     "output_type": "stream",
     "text": [
      "Using TensorFlow backend.\n"
     ]
    }
   ],
   "source": [
    "# 딥러닝 모델 설정\n",
    "from tensorflow import keras\n",
    "from keras.models import Sequential\n",
    "from keras.layers import Dense\n",
    "\n",
    "model = Sequential([\n",
    "    Dense(12, input_shape=(4,), activation='relu'),\n",
    "    Dense(8, input_shape=(4,), activation='relu'),\n",
    "    Dense(3, activation='softmax')\n",
    "])\n",
    "model.summary()"
   ]
  },
  {
   "cell_type": "code",
   "execution_count": 54,
   "metadata": {},
   "outputs": [],
   "source": [
    "# 모델 컴파일 \n",
    "model.compile(loss='categorical_crossentropy',\n",
    "              optimizer='adam',\n",
    "              metrics=['accuracy'])"
   ]
  },
  {
   "cell_type": "code",
   "execution_count": 55,
   "metadata": {},
   "outputs": [],
   "source": [
    "from keras.callbacks import ModelCheckpoint\n",
    "checkpointer = ModelCheckpoint(filepath=\"model/iris_deep.hdf5\", \n",
    "                               monitor='val_loss', \n",
    "                               verbose=1, save_best_only=True)"
   ]
  },
  {
   "cell_type": "code",
   "execution_count": 56,
   "metadata": {},
   "outputs": [
    {
     "data": {
      "text/plain": [
       "(array([1., 0., 0.], dtype=float32),\n",
       " array([0., 0., 1.], dtype=float32),\n",
       " array([0., 0., 1.], dtype=float32))"
      ]
     },
     "execution_count": 56,
     "metadata": {},
     "output_type": "execute_result"
    }
   ],
   "source": [
    "# One hot encoding\n",
    "Y_encoded = keras.utils.to_categorical(y_train)\n",
    "Y_encoded[0], Y_encoded[50], Y_encoded[100]"
   ]
  },
  {
   "cell_type": "code",
   "execution_count": 57,
   "metadata": {
    "scrolled": true
   },
   "outputs": [
    {
     "name": "stdout",
     "output_type": "stream",
     "text": [
      "Train on 96 samples, validate on 24 samples\n",
      "Epoch 1/100\n",
      " - 0s - loss: 2.9410 - accuracy: 0.0000e+00 - val_loss: 2.9917 - val_accuracy: 0.0000e+00\n",
      "\n",
      "Epoch 00001: val_loss improved from inf to 2.99172, saving model to model/iris_deep.hdf5\n",
      "Epoch 2/100\n",
      " - 0s - loss: 2.7963 - accuracy: 0.0000e+00 - val_loss: 2.8303 - val_accuracy: 0.0000e+00\n",
      "\n",
      "Epoch 00002: val_loss improved from 2.99172 to 2.83032, saving model to model/iris_deep.hdf5\n",
      "Epoch 3/100\n",
      " - 0s - loss: 2.6637 - accuracy: 0.0000e+00 - val_loss: 2.6779 - val_accuracy: 0.0000e+00\n",
      "\n",
      "Epoch 00003: val_loss improved from 2.83032 to 2.67791, saving model to model/iris_deep.hdf5\n",
      "Epoch 4/100\n",
      " - 0s - loss: 2.5403 - accuracy: 0.0000e+00 - val_loss: 2.5439 - val_accuracy: 0.0000e+00\n",
      "\n",
      "Epoch 00004: val_loss improved from 2.67791 to 2.54385, saving model to model/iris_deep.hdf5\n",
      "Epoch 5/100\n",
      " - 0s - loss: 2.4284 - accuracy: 0.0000e+00 - val_loss: 2.4260 - val_accuracy: 0.0000e+00\n",
      "\n",
      "Epoch 00005: val_loss improved from 2.54385 to 2.42604, saving model to model/iris_deep.hdf5\n",
      "Epoch 6/100\n",
      " - 0s - loss: 2.3346 - accuracy: 0.0000e+00 - val_loss: 2.3148 - val_accuracy: 0.0000e+00\n",
      "\n",
      "Epoch 00006: val_loss improved from 2.42604 to 2.31477, saving model to model/iris_deep.hdf5\n",
      "Epoch 7/100\n",
      " - 0s - loss: 2.2426 - accuracy: 0.0000e+00 - val_loss: 2.2200 - val_accuracy: 0.0000e+00\n",
      "\n",
      "Epoch 00007: val_loss improved from 2.31477 to 2.21996, saving model to model/iris_deep.hdf5\n",
      "Epoch 8/100\n",
      " - 0s - loss: 2.1628 - accuracy: 0.0000e+00 - val_loss: 2.1278 - val_accuracy: 0.0000e+00\n",
      "\n",
      "Epoch 00008: val_loss improved from 2.21996 to 2.12785, saving model to model/iris_deep.hdf5\n",
      "Epoch 9/100\n",
      " - 0s - loss: 2.0835 - accuracy: 0.0000e+00 - val_loss: 2.0483 - val_accuracy: 0.0000e+00\n",
      "\n",
      "Epoch 00009: val_loss improved from 2.12785 to 2.04831, saving model to model/iris_deep.hdf5\n",
      "Epoch 10/100\n",
      " - 0s - loss: 2.0157 - accuracy: 0.0000e+00 - val_loss: 1.9717 - val_accuracy: 0.0000e+00\n",
      "\n",
      "Epoch 00010: val_loss improved from 2.04831 to 1.97171, saving model to model/iris_deep.hdf5\n",
      "Epoch 11/100\n",
      " - 0s - loss: 1.9506 - accuracy: 0.0000e+00 - val_loss: 1.9036 - val_accuracy: 0.0000e+00\n",
      "\n",
      "Epoch 00011: val_loss improved from 1.97171 to 1.90355, saving model to model/iris_deep.hdf5\n",
      "Epoch 12/100\n",
      " - 0s - loss: 1.8904 - accuracy: 0.0000e+00 - val_loss: 1.8367 - val_accuracy: 0.0000e+00\n",
      "\n",
      "Epoch 00012: val_loss improved from 1.90355 to 1.83673, saving model to model/iris_deep.hdf5\n",
      "Epoch 13/100\n",
      " - 0s - loss: 1.8310 - accuracy: 0.0000e+00 - val_loss: 1.7764 - val_accuracy: 0.0000e+00\n",
      "\n",
      "Epoch 00013: val_loss improved from 1.83673 to 1.77642, saving model to model/iris_deep.hdf5\n",
      "Epoch 14/100\n",
      " - 0s - loss: 1.7717 - accuracy: 0.0000e+00 - val_loss: 1.7223 - val_accuracy: 0.0000e+00\n",
      "\n",
      "Epoch 00014: val_loss improved from 1.77642 to 1.72235, saving model to model/iris_deep.hdf5\n",
      "Epoch 15/100\n",
      " - 0s - loss: 1.7189 - accuracy: 0.0000e+00 - val_loss: 1.6774 - val_accuracy: 0.0000e+00\n",
      "\n",
      "Epoch 00015: val_loss improved from 1.72235 to 1.67738, saving model to model/iris_deep.hdf5\n",
      "Epoch 16/100\n",
      " - 0s - loss: 1.6700 - accuracy: 0.0000e+00 - val_loss: 1.6364 - val_accuracy: 0.0000e+00\n",
      "\n",
      "Epoch 00016: val_loss improved from 1.67738 to 1.63643, saving model to model/iris_deep.hdf5\n",
      "Epoch 17/100\n",
      " - 0s - loss: 1.6261 - accuracy: 0.0000e+00 - val_loss: 1.5978 - val_accuracy: 0.0000e+00\n",
      "\n",
      "Epoch 00017: val_loss improved from 1.63643 to 1.59780, saving model to model/iris_deep.hdf5\n",
      "Epoch 18/100\n",
      " - 0s - loss: 1.5857 - accuracy: 0.0000e+00 - val_loss: 1.5622 - val_accuracy: 0.0000e+00\n",
      "\n",
      "Epoch 00018: val_loss improved from 1.59780 to 1.56217, saving model to model/iris_deep.hdf5\n",
      "Epoch 19/100\n",
      " - 0s - loss: 1.5458 - accuracy: 0.0000e+00 - val_loss: 1.5241 - val_accuracy: 0.0000e+00\n",
      "\n",
      "Epoch 00019: val_loss improved from 1.56217 to 1.52410, saving model to model/iris_deep.hdf5\n",
      "Epoch 20/100\n",
      " - 0s - loss: 1.5094 - accuracy: 0.0000e+00 - val_loss: 1.4836 - val_accuracy: 0.0000e+00\n",
      "\n",
      "Epoch 00020: val_loss improved from 1.52410 to 1.48356, saving model to model/iris_deep.hdf5\n",
      "Epoch 21/100\n",
      " - 0s - loss: 1.4744 - accuracy: 0.0000e+00 - val_loss: 1.4466 - val_accuracy: 0.0000e+00\n",
      "\n",
      "Epoch 00021: val_loss improved from 1.48356 to 1.44658, saving model to model/iris_deep.hdf5\n",
      "Epoch 22/100\n",
      " - 0s - loss: 1.4418 - accuracy: 0.0000e+00 - val_loss: 1.4135 - val_accuracy: 0.0000e+00\n",
      "\n",
      "Epoch 00022: val_loss improved from 1.44658 to 1.41352, saving model to model/iris_deep.hdf5\n",
      "Epoch 23/100\n",
      " - 0s - loss: 1.4094 - accuracy: 0.0000e+00 - val_loss: 1.3822 - val_accuracy: 0.0000e+00\n",
      "\n",
      "Epoch 00023: val_loss improved from 1.41352 to 1.38217, saving model to model/iris_deep.hdf5\n",
      "Epoch 24/100\n",
      " - 0s - loss: 1.3789 - accuracy: 0.0000e+00 - val_loss: 1.3558 - val_accuracy: 0.0000e+00\n",
      "\n",
      "Epoch 00024: val_loss improved from 1.38217 to 1.35578, saving model to model/iris_deep.hdf5\n",
      "Epoch 25/100\n",
      " - 0s - loss: 1.3481 - accuracy: 0.0000e+00 - val_loss: 1.3269 - val_accuracy: 0.0000e+00\n",
      "\n",
      "Epoch 00025: val_loss improved from 1.35578 to 1.32690, saving model to model/iris_deep.hdf5\n",
      "Epoch 26/100\n",
      " - 0s - loss: 1.3196 - accuracy: 0.0000e+00 - val_loss: 1.2984 - val_accuracy: 0.0000e+00\n",
      "\n",
      "Epoch 00026: val_loss improved from 1.32690 to 1.29839, saving model to model/iris_deep.hdf5\n",
      "Epoch 27/100\n",
      " - 0s - loss: 1.2919 - accuracy: 0.0000e+00 - val_loss: 1.2688 - val_accuracy: 0.0000e+00\n",
      "\n",
      "Epoch 00027: val_loss improved from 1.29839 to 1.26876, saving model to model/iris_deep.hdf5\n",
      "Epoch 28/100\n",
      " - 0s - loss: 1.2642 - accuracy: 0.0104 - val_loss: 1.2413 - val_accuracy: 0.0000e+00\n",
      "\n",
      "Epoch 00028: val_loss improved from 1.26876 to 1.24133, saving model to model/iris_deep.hdf5\n",
      "Epoch 29/100\n",
      " - 0s - loss: 1.2385 - accuracy: 0.0104 - val_loss: 1.2143 - val_accuracy: 0.0417\n",
      "\n",
      "Epoch 00029: val_loss improved from 1.24133 to 1.21430, saving model to model/iris_deep.hdf5\n",
      "Epoch 30/100\n",
      " - 0s - loss: 1.2122 - accuracy: 0.0208 - val_loss: 1.1867 - val_accuracy: 0.0833\n",
      "\n",
      "Epoch 00030: val_loss improved from 1.21430 to 1.18671, saving model to model/iris_deep.hdf5\n",
      "Epoch 31/100\n",
      " - 0s - loss: 1.1872 - accuracy: 0.0833 - val_loss: 1.1606 - val_accuracy: 0.0833\n",
      "\n",
      "Epoch 00031: val_loss improved from 1.18671 to 1.16061, saving model to model/iris_deep.hdf5\n",
      "Epoch 32/100\n",
      " - 0s - loss: 1.1619 - accuracy: 0.1042 - val_loss: 1.1359 - val_accuracy: 0.0833\n",
      "\n",
      "Epoch 00032: val_loss improved from 1.16061 to 1.13594, saving model to model/iris_deep.hdf5\n",
      "Epoch 33/100\n",
      " - 0s - loss: 1.1370 - accuracy: 0.1667 - val_loss: 1.1107 - val_accuracy: 0.2083\n",
      "\n",
      "Epoch 00033: val_loss improved from 1.13594 to 1.11073, saving model to model/iris_deep.hdf5\n",
      "Epoch 34/100\n",
      " - 0s - loss: 1.1129 - accuracy: 0.2500 - val_loss: 1.0837 - val_accuracy: 0.3333\n",
      "\n",
      "Epoch 00034: val_loss improved from 1.11073 to 1.08374, saving model to model/iris_deep.hdf5\n",
      "Epoch 35/100\n",
      " - 0s - loss: 1.0904 - accuracy: 0.3125 - val_loss: 1.0581 - val_accuracy: 0.3750\n",
      "\n",
      "Epoch 00035: val_loss improved from 1.08374 to 1.05810, saving model to model/iris_deep.hdf5\n",
      "Epoch 36/100\n",
      " - 0s - loss: 1.0697 - accuracy: 0.3125 - val_loss: 1.0351 - val_accuracy: 0.4167\n",
      "\n",
      "Epoch 00036: val_loss improved from 1.05810 to 1.03514, saving model to model/iris_deep.hdf5\n",
      "Epoch 37/100\n",
      " - 0s - loss: 1.0487 - accuracy: 0.3125 - val_loss: 1.0137 - val_accuracy: 0.4167\n",
      "\n",
      "Epoch 00037: val_loss improved from 1.03514 to 1.01374, saving model to model/iris_deep.hdf5\n",
      "Epoch 38/100\n",
      " - 0s - loss: 1.0280 - accuracy: 0.3125 - val_loss: 0.9934 - val_accuracy: 0.4167\n",
      "\n",
      "Epoch 00038: val_loss improved from 1.01374 to 0.99344, saving model to model/iris_deep.hdf5\n",
      "Epoch 39/100\n",
      " - 0s - loss: 1.0076 - accuracy: 0.3125 - val_loss: 0.9748 - val_accuracy: 0.4167\n",
      "\n",
      "Epoch 00039: val_loss improved from 0.99344 to 0.97482, saving model to model/iris_deep.hdf5\n",
      "Epoch 40/100\n",
      " - 0s - loss: 0.9878 - accuracy: 0.3229 - val_loss: 0.9567 - val_accuracy: 0.5000\n",
      "\n",
      "Epoch 00040: val_loss improved from 0.97482 to 0.95666, saving model to model/iris_deep.hdf5\n",
      "Epoch 41/100\n",
      " - 0s - loss: 0.9696 - accuracy: 0.3958 - val_loss: 0.9421 - val_accuracy: 0.6667\n",
      "\n",
      "Epoch 00041: val_loss improved from 0.95666 to 0.94210, saving model to model/iris_deep.hdf5\n",
      "Epoch 42/100\n",
      " - 0s - loss: 0.9525 - accuracy: 0.6250 - val_loss: 0.9285 - val_accuracy: 0.7917\n",
      "\n",
      "Epoch 00042: val_loss improved from 0.94210 to 0.92848, saving model to model/iris_deep.hdf5\n",
      "Epoch 43/100\n"
     ]
    },
    {
     "name": "stdout",
     "output_type": "stream",
     "text": [
      " - 0s - loss: 0.9365 - accuracy: 0.7500 - val_loss: 0.9142 - val_accuracy: 0.8333\n",
      "\n",
      "Epoch 00043: val_loss improved from 0.92848 to 0.91425, saving model to model/iris_deep.hdf5\n",
      "Epoch 44/100\n",
      " - 0s - loss: 0.9210 - accuracy: 0.7812 - val_loss: 0.9000 - val_accuracy: 0.8333\n",
      "\n",
      "Epoch 00044: val_loss improved from 0.91425 to 0.89999, saving model to model/iris_deep.hdf5\n",
      "Epoch 45/100\n",
      " - 0s - loss: 0.9066 - accuracy: 0.8021 - val_loss: 0.8856 - val_accuracy: 0.8333\n",
      "\n",
      "Epoch 00045: val_loss improved from 0.89999 to 0.88559, saving model to model/iris_deep.hdf5\n",
      "Epoch 46/100\n",
      " - 0s - loss: 0.8930 - accuracy: 0.8125 - val_loss: 0.8709 - val_accuracy: 0.8333\n",
      "\n",
      "Epoch 00046: val_loss improved from 0.88559 to 0.87090, saving model to model/iris_deep.hdf5\n",
      "Epoch 47/100\n",
      " - 0s - loss: 0.8802 - accuracy: 0.8021 - val_loss: 0.8540 - val_accuracy: 0.8333\n",
      "\n",
      "Epoch 00047: val_loss improved from 0.87090 to 0.85401, saving model to model/iris_deep.hdf5\n",
      "Epoch 48/100\n",
      " - 0s - loss: 0.8685 - accuracy: 0.7500 - val_loss: 0.8386 - val_accuracy: 0.8333\n",
      "\n",
      "Epoch 00048: val_loss improved from 0.85401 to 0.83858, saving model to model/iris_deep.hdf5\n",
      "Epoch 49/100\n",
      " - 0s - loss: 0.8548 - accuracy: 0.7500 - val_loss: 0.8261 - val_accuracy: 0.8333\n",
      "\n",
      "Epoch 00049: val_loss improved from 0.83858 to 0.82614, saving model to model/iris_deep.hdf5\n",
      "Epoch 50/100\n",
      " - 0s - loss: 0.8426 - accuracy: 0.7604 - val_loss: 0.8152 - val_accuracy: 0.8333\n",
      "\n",
      "Epoch 00050: val_loss improved from 0.82614 to 0.81516, saving model to model/iris_deep.hdf5\n",
      "Epoch 51/100\n",
      " - 0s - loss: 0.8297 - accuracy: 0.7812 - val_loss: 0.8060 - val_accuracy: 0.8333\n",
      "\n",
      "Epoch 00051: val_loss improved from 0.81516 to 0.80599, saving model to model/iris_deep.hdf5\n",
      "Epoch 52/100\n",
      " - 0s - loss: 0.8165 - accuracy: 0.8333 - val_loss: 0.7945 - val_accuracy: 0.8333\n",
      "\n",
      "Epoch 00052: val_loss improved from 0.80599 to 0.79445, saving model to model/iris_deep.hdf5\n",
      "Epoch 53/100\n",
      " - 0s - loss: 0.8049 - accuracy: 0.8333 - val_loss: 0.7842 - val_accuracy: 0.8333\n",
      "\n",
      "Epoch 00053: val_loss improved from 0.79445 to 0.78418, saving model to model/iris_deep.hdf5\n",
      "Epoch 54/100\n",
      " - 0s - loss: 0.7937 - accuracy: 0.8542 - val_loss: 0.7747 - val_accuracy: 0.8750\n",
      "\n",
      "Epoch 00054: val_loss improved from 0.78418 to 0.77467, saving model to model/iris_deep.hdf5\n",
      "Epoch 55/100\n",
      " - 0s - loss: 0.7822 - accuracy: 0.8750 - val_loss: 0.7644 - val_accuracy: 0.9167\n",
      "\n",
      "Epoch 00055: val_loss improved from 0.77467 to 0.76437, saving model to model/iris_deep.hdf5\n",
      "Epoch 56/100\n",
      " - 0s - loss: 0.7712 - accuracy: 0.8958 - val_loss: 0.7521 - val_accuracy: 0.8750\n",
      "\n",
      "Epoch 00056: val_loss improved from 0.76437 to 0.75209, saving model to model/iris_deep.hdf5\n",
      "Epoch 57/100\n",
      " - 0s - loss: 0.7598 - accuracy: 0.8854 - val_loss: 0.7420 - val_accuracy: 0.9167\n",
      "\n",
      "Epoch 00057: val_loss improved from 0.75209 to 0.74205, saving model to model/iris_deep.hdf5\n",
      "Epoch 58/100\n",
      " - 0s - loss: 0.7493 - accuracy: 0.8958 - val_loss: 0.7323 - val_accuracy: 0.9167\n",
      "\n",
      "Epoch 00058: val_loss improved from 0.74205 to 0.73234, saving model to model/iris_deep.hdf5\n",
      "Epoch 59/100\n",
      " - 0s - loss: 0.7380 - accuracy: 0.8958 - val_loss: 0.7224 - val_accuracy: 0.9167\n",
      "\n",
      "Epoch 00059: val_loss improved from 0.73234 to 0.72238, saving model to model/iris_deep.hdf5\n",
      "Epoch 60/100\n",
      " - 0s - loss: 0.7277 - accuracy: 0.8958 - val_loss: 0.7126 - val_accuracy: 0.9167\n",
      "\n",
      "Epoch 00060: val_loss improved from 0.72238 to 0.71258, saving model to model/iris_deep.hdf5\n",
      "Epoch 61/100\n",
      " - 0s - loss: 0.7177 - accuracy: 0.8958 - val_loss: 0.7023 - val_accuracy: 0.9167\n",
      "\n",
      "Epoch 00061: val_loss improved from 0.71258 to 0.70230, saving model to model/iris_deep.hdf5\n",
      "Epoch 62/100\n",
      " - 0s - loss: 0.7081 - accuracy: 0.9062 - val_loss: 0.6951 - val_accuracy: 0.9167\n",
      "\n",
      "Epoch 00062: val_loss improved from 0.70230 to 0.69506, saving model to model/iris_deep.hdf5\n",
      "Epoch 63/100\n",
      " - 0s - loss: 0.6988 - accuracy: 0.9062 - val_loss: 0.6880 - val_accuracy: 0.9583\n",
      "\n",
      "Epoch 00063: val_loss improved from 0.69506 to 0.68799, saving model to model/iris_deep.hdf5\n",
      "Epoch 64/100\n",
      " - 0s - loss: 0.6907 - accuracy: 0.9167 - val_loss: 0.6824 - val_accuracy: 1.0000\n",
      "\n",
      "Epoch 00064: val_loss improved from 0.68799 to 0.68241, saving model to model/iris_deep.hdf5\n",
      "Epoch 65/100\n",
      " - 0s - loss: 0.6833 - accuracy: 0.9583 - val_loss: 0.6746 - val_accuracy: 1.0000\n",
      "\n",
      "Epoch 00065: val_loss improved from 0.68241 to 0.67461, saving model to model/iris_deep.hdf5\n",
      "Epoch 66/100\n",
      " - 0s - loss: 0.6755 - accuracy: 0.9479 - val_loss: 0.6653 - val_accuracy: 1.0000\n",
      "\n",
      "Epoch 00066: val_loss improved from 0.67461 to 0.66531, saving model to model/iris_deep.hdf5\n",
      "Epoch 67/100\n",
      " - 0s - loss: 0.6671 - accuracy: 0.9167 - val_loss: 0.6551 - val_accuracy: 0.9167\n",
      "\n",
      "Epoch 00067: val_loss improved from 0.66531 to 0.65513, saving model to model/iris_deep.hdf5\n",
      "Epoch 68/100\n",
      " - 0s - loss: 0.6609 - accuracy: 0.8958 - val_loss: 0.6428 - val_accuracy: 0.8750\n",
      "\n",
      "Epoch 00068: val_loss improved from 0.65513 to 0.64278, saving model to model/iris_deep.hdf5\n",
      "Epoch 69/100\n",
      " - 0s - loss: 0.6519 - accuracy: 0.8958 - val_loss: 0.6341 - val_accuracy: 0.8333\n",
      "\n",
      "Epoch 00069: val_loss improved from 0.64278 to 0.63409, saving model to model/iris_deep.hdf5\n",
      "Epoch 70/100\n",
      " - 0s - loss: 0.6450 - accuracy: 0.8646 - val_loss: 0.6245 - val_accuracy: 0.8333\n",
      "\n",
      "Epoch 00070: val_loss improved from 0.63409 to 0.62446, saving model to model/iris_deep.hdf5\n",
      "Epoch 71/100\n",
      " - 0s - loss: 0.6389 - accuracy: 0.8021 - val_loss: 0.6144 - val_accuracy: 0.8333\n",
      "\n",
      "Epoch 00071: val_loss improved from 0.62446 to 0.61439, saving model to model/iris_deep.hdf5\n",
      "Epoch 72/100\n",
      " - 0s - loss: 0.6326 - accuracy: 0.7708 - val_loss: 0.6070 - val_accuracy: 0.8333\n",
      "\n",
      "Epoch 00072: val_loss improved from 0.61439 to 0.60700, saving model to model/iris_deep.hdf5\n",
      "Epoch 73/100\n",
      " - 0s - loss: 0.6261 - accuracy: 0.7604 - val_loss: 0.6008 - val_accuracy: 0.8333\n",
      "\n",
      "Epoch 00073: val_loss improved from 0.60700 to 0.60078, saving model to model/iris_deep.hdf5\n",
      "Epoch 74/100\n",
      " - 0s - loss: 0.6194 - accuracy: 0.7708 - val_loss: 0.5973 - val_accuracy: 0.8333\n",
      "\n",
      "Epoch 00074: val_loss improved from 0.60078 to 0.59726, saving model to model/iris_deep.hdf5\n",
      "Epoch 75/100\n",
      " - 0s - loss: 0.6131 - accuracy: 0.8438 - val_loss: 0.5944 - val_accuracy: 0.8333\n",
      "\n",
      "Epoch 00075: val_loss improved from 0.59726 to 0.59443, saving model to model/iris_deep.hdf5\n",
      "Epoch 76/100\n",
      " - 0s - loss: 0.6074 - accuracy: 0.8958 - val_loss: 0.5920 - val_accuracy: 0.9167\n",
      "\n",
      "Epoch 00076: val_loss improved from 0.59443 to 0.59197, saving model to model/iris_deep.hdf5\n",
      "Epoch 77/100\n",
      " - 0s - loss: 0.6020 - accuracy: 0.8958 - val_loss: 0.5865 - val_accuracy: 0.9167\n",
      "\n",
      "Epoch 00077: val_loss improved from 0.59197 to 0.58648, saving model to model/iris_deep.hdf5\n",
      "Epoch 78/100\n",
      " - 0s - loss: 0.5967 - accuracy: 0.8958 - val_loss: 0.5820 - val_accuracy: 0.9167\n",
      "\n",
      "Epoch 00078: val_loss improved from 0.58648 to 0.58203, saving model to model/iris_deep.hdf5\n",
      "Epoch 79/100\n",
      " - 0s - loss: 0.5910 - accuracy: 0.8958 - val_loss: 0.5749 - val_accuracy: 0.9167\n",
      "\n",
      "Epoch 00079: val_loss improved from 0.58203 to 0.57490, saving model to model/iris_deep.hdf5\n",
      "Epoch 80/100\n",
      " - 0s - loss: 0.5853 - accuracy: 0.8958 - val_loss: 0.5677 - val_accuracy: 0.8333\n",
      "\n",
      "Epoch 00080: val_loss improved from 0.57490 to 0.56773, saving model to model/iris_deep.hdf5\n",
      "Epoch 81/100\n",
      " - 0s - loss: 0.5801 - accuracy: 0.8750 - val_loss: 0.5612 - val_accuracy: 0.8333\n",
      "\n",
      "Epoch 00081: val_loss improved from 0.56773 to 0.56123, saving model to model/iris_deep.hdf5\n",
      "Epoch 82/100\n",
      " - 0s - loss: 0.5752 - accuracy: 0.8750 - val_loss: 0.5564 - val_accuracy: 0.8333\n",
      "\n",
      "Epoch 00082: val_loss improved from 0.56123 to 0.55636, saving model to model/iris_deep.hdf5\n",
      "Epoch 83/100\n",
      " - 0s - loss: 0.5699 - accuracy: 0.8750 - val_loss: 0.5510 - val_accuracy: 0.8333\n",
      "\n",
      "Epoch 00083: val_loss improved from 0.55636 to 0.55097, saving model to model/iris_deep.hdf5\n",
      "Epoch 84/100\n",
      " - 0s - loss: 0.5652 - accuracy: 0.8646 - val_loss: 0.5459 - val_accuracy: 0.8333\n",
      "\n",
      "Epoch 00084: val_loss improved from 0.55097 to 0.54592, saving model to model/iris_deep.hdf5\n",
      "Epoch 85/100\n",
      " - 0s - loss: 0.5603 - accuracy: 0.8542 - val_loss: 0.5413 - val_accuracy: 0.8333\n",
      "\n",
      "Epoch 00085: val_loss improved from 0.54592 to 0.54130, saving model to model/iris_deep.hdf5\n",
      "Epoch 86/100\n",
      " - 0s - loss: 0.5556 - accuracy: 0.8750 - val_loss: 0.5372 - val_accuracy: 0.8333\n"
     ]
    },
    {
     "name": "stdout",
     "output_type": "stream",
     "text": [
      "\n",
      "Epoch 00086: val_loss improved from 0.54130 to 0.53719, saving model to model/iris_deep.hdf5\n",
      "Epoch 87/100\n",
      " - 0s - loss: 0.5511 - accuracy: 0.8750 - val_loss: 0.5328 - val_accuracy: 0.8333\n",
      "\n",
      "Epoch 00087: val_loss improved from 0.53719 to 0.53279, saving model to model/iris_deep.hdf5\n",
      "Epoch 88/100\n",
      " - 0s - loss: 0.5463 - accuracy: 0.8750 - val_loss: 0.5296 - val_accuracy: 0.8333\n",
      "\n",
      "Epoch 00088: val_loss improved from 0.53279 to 0.52961, saving model to model/iris_deep.hdf5\n",
      "Epoch 89/100\n",
      " - 0s - loss: 0.5417 - accuracy: 0.8958 - val_loss: 0.5270 - val_accuracy: 0.9167\n",
      "\n",
      "Epoch 00089: val_loss improved from 0.52961 to 0.52696, saving model to model/iris_deep.hdf5\n",
      "Epoch 90/100\n",
      " - 0s - loss: 0.5381 - accuracy: 0.8958 - val_loss: 0.5265 - val_accuracy: 0.9167\n",
      "\n",
      "Epoch 00090: val_loss improved from 0.52696 to 0.52647, saving model to model/iris_deep.hdf5\n",
      "Epoch 91/100\n",
      " - 0s - loss: 0.5331 - accuracy: 0.9062 - val_loss: 0.5260 - val_accuracy: 1.0000\n",
      "\n",
      "Epoch 00091: val_loss improved from 0.52647 to 0.52597, saving model to model/iris_deep.hdf5\n",
      "Epoch 92/100\n",
      " - 0s - loss: 0.5292 - accuracy: 0.9479 - val_loss: 0.5243 - val_accuracy: 1.0000\n",
      "\n",
      "Epoch 00092: val_loss improved from 0.52597 to 0.52428, saving model to model/iris_deep.hdf5\n",
      "Epoch 93/100\n",
      " - 0s - loss: 0.5257 - accuracy: 0.9583 - val_loss: 0.5198 - val_accuracy: 1.0000\n",
      "\n",
      "Epoch 00093: val_loss improved from 0.52428 to 0.51983, saving model to model/iris_deep.hdf5\n",
      "Epoch 94/100\n",
      " - 0s - loss: 0.5213 - accuracy: 0.9583 - val_loss: 0.5142 - val_accuracy: 1.0000\n",
      "\n",
      "Epoch 00094: val_loss improved from 0.51983 to 0.51418, saving model to model/iris_deep.hdf5\n",
      "Epoch 95/100\n",
      " - 0s - loss: 0.5174 - accuracy: 0.9167 - val_loss: 0.5072 - val_accuracy: 0.9583\n",
      "\n",
      "Epoch 00095: val_loss improved from 0.51418 to 0.50720, saving model to model/iris_deep.hdf5\n",
      "Epoch 96/100\n",
      " - 0s - loss: 0.5126 - accuracy: 0.9167 - val_loss: 0.5020 - val_accuracy: 0.9167\n",
      "\n",
      "Epoch 00096: val_loss improved from 0.50720 to 0.50203, saving model to model/iris_deep.hdf5\n",
      "Epoch 97/100\n",
      " - 0s - loss: 0.5086 - accuracy: 0.8958 - val_loss: 0.4949 - val_accuracy: 0.9167\n",
      "\n",
      "Epoch 00097: val_loss improved from 0.50203 to 0.49495, saving model to model/iris_deep.hdf5\n",
      "Epoch 98/100\n",
      " - 0s - loss: 0.5058 - accuracy: 0.8958 - val_loss: 0.4883 - val_accuracy: 0.8333\n",
      "\n",
      "Epoch 00098: val_loss improved from 0.49495 to 0.48835, saving model to model/iris_deep.hdf5\n",
      "Epoch 99/100\n",
      " - 0s - loss: 0.5021 - accuracy: 0.8750 - val_loss: 0.4844 - val_accuracy: 0.8333\n",
      "\n",
      "Epoch 00099: val_loss improved from 0.48835 to 0.48439, saving model to model/iris_deep.hdf5\n",
      "Epoch 100/100\n",
      " - 0s - loss: 0.4989 - accuracy: 0.8646 - val_loss: 0.4808 - val_accuracy: 0.8333\n",
      "\n",
      "Epoch 00100: val_loss improved from 0.48439 to 0.48083, saving model to model/iris_deep.hdf5\n"
     ]
    },
    {
     "data": {
      "text/plain": [
       "<keras.callbacks.callbacks.History at 0x2c71201ec08>"
      ]
     },
     "execution_count": 57,
     "metadata": {},
     "output_type": "execute_result"
    }
   ],
   "source": [
    "# 모델 학습\n",
    "model.fit(x_train, Y_encoded, epochs=100, batch_size=30, verbose=2,\n",
    "          validation_split=0.2, callbacks=[checkpointer])"
   ]
  },
  {
   "cell_type": "code",
   "execution_count": 58,
   "metadata": {},
   "outputs": [],
   "source": [
    "from keras.models import load_model\n",
    "model_deep = load_model(\"model/iris_deep.hdf5\")"
   ]
  },
  {
   "cell_type": "code",
   "execution_count": 59,
   "metadata": {},
   "outputs": [
    {
     "name": "stdout",
     "output_type": "stream",
     "text": [
      "\r",
      "30/30 [==============================] - 0s 0us/step\n"
     ]
    },
    {
     "data": {
      "text/plain": [
       "0.9333333373069763"
      ]
     },
     "execution_count": 59,
     "metadata": {},
     "output_type": "execute_result"
    }
   ],
   "source": [
    "model.evaluate(x_test, keras.utils.to_categorical(y_test))[1]"
   ]
  },
  {
   "cell_type": "code",
   "execution_count": 60,
   "metadata": {},
   "outputs": [
    {
     "data": {
      "text/plain": [
       "2"
      ]
     },
     "execution_count": 60,
     "metadata": {},
     "output_type": "execute_result"
    }
   ],
   "source": [
    "model_deep.predict_classes(test_data)[0]"
   ]
  },
  {
   "cell_type": "code",
   "execution_count": 61,
   "metadata": {},
   "outputs": [
    {
     "data": {
      "text/plain": [
       "array([[0.0258715 , 0.37937486, 0.5947537 ]], dtype=float32)"
      ]
     },
     "execution_count": 61,
     "metadata": {},
     "output_type": "execute_result"
    }
   ],
   "source": [
    "model_deep.predict(test_data)"
   ]
  },
  {
   "cell_type": "code",
   "execution_count": 62,
   "metadata": {},
   "outputs": [
    {
     "data": {
      "text/plain": [
       "2"
      ]
     },
     "execution_count": 62,
     "metadata": {},
     "output_type": "execute_result"
    }
   ],
   "source": [
    "np.argmax(model_deep.predict(test_data)[0])"
   ]
  },
  {
   "cell_type": "code",
   "execution_count": 29,
   "metadata": {},
   "outputs": [],
   "source": [
    "#iris_deep = model_deep.predict_classes(test_data)[0]"
   ]
  },
  {
   "cell_type": "code",
   "execution_count": 30,
   "metadata": {},
   "outputs": [],
   "source": [
    "#print(sp_names[iris_deep])"
   ]
  }
 ],
 "metadata": {
  "kernelspec": {
   "display_name": "Python 3",
   "language": "python",
   "name": "python3"
  },
  "language_info": {
   "codemirror_mode": {
    "name": "ipython",
    "version": 3
   },
   "file_extension": ".py",
   "mimetype": "text/x-python",
   "name": "python",
   "nbconvert_exporter": "python",
   "pygments_lexer": "ipython3",
   "version": "3.7.7"
  }
 },
 "nbformat": 4,
 "nbformat_minor": 4
}
